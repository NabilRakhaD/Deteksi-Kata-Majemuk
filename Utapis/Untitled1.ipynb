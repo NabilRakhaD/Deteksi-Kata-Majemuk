{
 "cells": [
  {
   "cell_type": "code",
   "execution_count": 27,
   "id": "99dda9f1",
   "metadata": {},
   "outputs": [
    {
     "name": "stdout",
     "output_type": "stream",
     "text": [
      "Requirement already satisfied: nlp-id in c:\\users\\legion\\anaconda3\\lib\\site-packages (0.1.15.0)\n",
      "Requirement already satisfied: scikit-learn==1.2.2 in c:\\users\\legion\\anaconda3\\lib\\site-packages (from nlp-id) (1.2.2)\n",
      "Requirement already satisfied: nltk==3.8.1 in c:\\users\\legion\\anaconda3\\lib\\site-packages (from nlp-id) (3.8.1)\n",
      "Requirement already satisfied: pytest==7.3.1 in c:\\users\\legion\\anaconda3\\lib\\site-packages (from nlp-id) (7.3.1)\n",
      "Requirement already satisfied: wget==3.2 in c:\\users\\legion\\anaconda3\\lib\\site-packages (from nlp-id) (3.2)\n",
      "Requirement already satisfied: regex>=2021.8.3 in c:\\users\\legion\\anaconda3\\lib\\site-packages (from nltk==3.8.1->nlp-id) (2022.7.9)\n",
      "Requirement already satisfied: tqdm in c:\\users\\legion\\anaconda3\\lib\\site-packages (from nltk==3.8.1->nlp-id) (4.64.1)\n",
      "Requirement already satisfied: click in c:\\users\\legion\\anaconda3\\lib\\site-packages (from nltk==3.8.1->nlp-id) (8.0.4)\n",
      "Requirement already satisfied: joblib in c:\\users\\legion\\anaconda3\\lib\\site-packages (from nltk==3.8.1->nlp-id) (1.3.2)\n",
      "Requirement already satisfied: exceptiongroup>=1.0.0rc8 in c:\\users\\legion\\anaconda3\\lib\\site-packages (from pytest==7.3.1->nlp-id) (1.1.3)\n",
      "Requirement already satisfied: tomli>=1.0.0 in c:\\users\\legion\\anaconda3\\lib\\site-packages (from pytest==7.3.1->nlp-id) (2.0.1)\n",
      "Requirement already satisfied: colorama in c:\\users\\legion\\anaconda3\\lib\\site-packages (from pytest==7.3.1->nlp-id) (0.4.5)\n",
      "Requirement already satisfied: pluggy<2.0,>=0.12 in c:\\users\\legion\\anaconda3\\lib\\site-packages (from pytest==7.3.1->nlp-id) (1.0.0)\n",
      "Requirement already satisfied: iniconfig in c:\\users\\legion\\anaconda3\\lib\\site-packages (from pytest==7.3.1->nlp-id) (1.1.1)\n",
      "Requirement already satisfied: packaging in c:\\users\\legion\\anaconda3\\lib\\site-packages (from pytest==7.3.1->nlp-id) (21.3)\n",
      "Requirement already satisfied: threadpoolctl>=2.0.0 in c:\\users\\legion\\anaconda3\\lib\\site-packages (from scikit-learn==1.2.2->nlp-id) (2.2.0)\n",
      "Requirement already satisfied: numpy>=1.17.3 in c:\\users\\legion\\anaconda3\\lib\\site-packages (from scikit-learn==1.2.2->nlp-id) (1.21.5)\n",
      "Requirement already satisfied: scipy>=1.3.2 in c:\\users\\legion\\anaconda3\\lib\\site-packages (from scikit-learn==1.2.2->nlp-id) (1.9.1)\n",
      "Requirement already satisfied: pyparsing!=3.0.5,>=2.0.2 in c:\\users\\legion\\anaconda3\\lib\\site-packages (from packaging->pytest==7.3.1->nlp-id) (3.0.9)\n",
      "Note: you may need to restart the kernel to use updated packages.\n"
     ]
    }
   ],
   "source": [
    "#pip install nlp-id "
   ]
  },
  {
   "cell_type": "code",
   "execution_count": 118,
   "id": "b85523f9",
   "metadata": {},
   "outputs": [
    {
     "name": "stdout",
     "output_type": "stream",
     "text": [
      "Collecting python-crfsuite\n",
      "  Downloading python_crfsuite-0.9.9-cp39-cp39-win_amd64.whl (139 kB)\n",
      "     -------------------------------------- 139.2/139.2 kB 4.2 MB/s eta 0:00:00\n",
      "Installing collected packages: python-crfsuite\n",
      "Successfully installed python-crfsuite-0.9.9\n",
      "Note: you may need to restart the kernel to use updated packages.\n"
     ]
    }
   ],
   "source": [
    "pip install python-crfsuite"
   ]
  },
  {
   "cell_type": "code",
   "execution_count": 1,
   "id": "268154e7",
   "metadata": {},
   "outputs": [],
   "source": [
    "import requests\n",
    "import string\n",
    "import re\n",
    "\n",
    "from bs4 import BeautifulSoup\n",
    "import nltk\n",
    "from nltk.corpus import stopwords\n",
    "#nltk.download('stopwords')\n",
    "from Sastrawi.StopWordRemover.StopWordRemoverFactory import StopWordRemoverFactory"
   ]
  },
  {
   "cell_type": "code",
   "execution_count": 2,
   "id": "c8b20920",
   "metadata": {},
   "outputs": [],
   "source": [
    "kalimat = 'Laporan Wartawan Tribunnews.com- Aisyah Nursyamsi TRIBUNNEWS.COM, JAKARTA - Juru Bicara Pemerintah untuk Covid-19, dr. Reisa Broto Asmoro menyebutkan jika saat ini jumlah vaksin lengkap telah mencapai 44,7 persen dari 208 juta sasaran.Namun ia pun kembali mengingatkan jika angka tersebut harus terus ditingkatkan. Pasalnya, Indonesia memiliki target capaian vaksin harus sampai 70 persen pada 31 Desember 2021 nanti.  \"Tepatnya sebelum jam 24.00 saat tahun baru berganti,\" ungkap Reisa pada Konferensi Pers Virtual, Jumat,(26/11/2021). Kata Reisa, Indonesia sudah menerima cukup banyak vaksin. Yaitu sudah hampir 360 juta dosis. Selain itu kata dr Reisa, jutaan vaksin lainnya akan terus berdatangan, termasuk akhir pekan ini. \"Maka, segera divaksin bagi yang belum dan lengkap bagi mereka yang baru menerima satu dosis. Pastikan cakupan vaksinasi terutama lansia, tinggi. Terutama di semua provinsi dan kabupaten kota yang masih rendah,\" katanya lagi. Reisa pun kembali mewanti-wanti jika vaksin dapat menekan angka kematian dan perawatan rumah sakit secara drastis. \"WHO menjelaskan bahwa fungsi vaksin tidak diukur dari efikasi, namun dari kemampuan vaksinasi memberikan memori kepada sel tubuh. Sehingga selalu membangun imunitas pada setiap virus yang masuk,\" pungkasnya.'\n",
    "#Laporan Wartawan Tribunnews.com- Aisyah Nursyamsi TRIBUNNEWS.COM, JAKARTA- Juru Bicara Pemerintah untuk Covid-19, dr. Reisa Broto Asmoro menyebutkan jika saat ini jumlah vaksin lengkap telah mencapai 44,7 persen dari 208 juta sasaran.Namun ia pun kembali mengingatkan jika angka tersebut harus terus ditingkatkan. Pasalnya, Indonesia memiliki target capaian vaksin harus sampai 70 persen pada 31 Desember 2021 nanti.  \"Tepatnya sebelum jam 24.00 saat tahun baru berganti,\" ungkap Reisa pada Konferensi Pers Virtual, Jumat ,(26/11/2021). Kata Reisa, Indonesia sudah menerima cukup banyak vaksin. Yaitu sudah hampir 360 juta dosis. Selain itu kata dr Reisa, jutaan vaksin lainnya akan terus berdatangan, termasuk akhir pekan ini. \"Maka, segera divaksin bagi yang belum dan lengkap bagi mereka yang baru menerima satu dosis. Pastikan cakupan vaksinasi terutama lansia, tinggi. Terutama di semua provinsi dan kabupaten kota yang masih rendah,\" katanya lagi. Reisa pun kembali mewanti-wanti jika vaksin dapat menekan angka kematian dan perawatan rumah sakit secara drastis. \"WHO menjelaskan bahwa fungsi vaksin tidak diukur dari efikasi, namun dari kemampuan vaksinasi memberikan memori kepada sel tubuh. Sehingga selalu membangun imunitas pada setiap virus yang masuk,\" pungkasnya.\n",
    "#Laporan Wartawan Tribunnews.com, Fransiskus AdhiyudaTRIBUNNEWS.COM, JAKARTA - Presiden Joko Widodo (Jokowi) berharap perspektif technopreneur atau kewirausahaan berbasis teknologi yang selama ini menjadi keunggulan Universitas Multimedia Nusantara (UMN) ini juga sangat penting untuk diperkuat.Pasalnya, Jokowi menilai hal tersebut melatih mahasiswa untuk memecahkan sejumlah masalah dengan memanfaatkan teknologi.Hal itu disampaikan Presiden Jokowi dalam Webinar Kebangsaaan dan Dies Natalis 15 Tahun UMN yang disiarkan kanal YouTube Universtitas Multimedia Nusantara, Kamis (25/11/2021).\"Melatih mahasiswa untuk memecahkan masalah sosial, masalah kemanusian, dan masalah kebangsaan dengan memanfaatkan teknologi secara inovatif dan berkewirausahaan dengan perspektif yang ramah lingkungan dan berkelanjutan,\" kata Jokowi.Lebih lanjut, Presiden Jokowi mengatakan, pengembangan iptek dan inovasi yang berwawasan kewirausahaan dan berkelanjutan adalah kunci untuk menjadi negara maju. \"Kita harus secepatnya keluar dari jebakan pengekspor bahan mentah dan secepatnya memperkokoh industrialisasi hijau, memanfaatkan green technology,\" ucap Jokowi.Selain itu, langkah pembangunan harus memberikan nilai tambah yang lebih besar bagi perekonomian nasional, menciptakan lapangan kerja yang semakin banyak menurunkan angka pengangguran dan juga sekaligus menekan angka kemiskinan. Menurut Jokowi, pekerjaan besar ini tidak bisa dilakukan oleh pemerintah saja. Maka, Kepala Negara mengajak seluruh elemen masyarakat untuk memberikan kontribusinya. Terutama, kolaborasi antara perguruan tinggi dengan industri dan masyarakat luas menjadi sangatlah penting\"Kita butuh para peneliti dan ilmuwan hebat, tetapi kita butuh para entrepreneur, para technopreneur yang sangat banyak, yang merintis diri menjadi industriawan hebat dan menjadikan indonesia menjadi negara industri yang berpengaruh,\" ujar Jokowi.\"Saya berharap perguruan tinggi di seluruh indonesia untuk semakin serius bergerak ke arah ini dengan jumlah mahasiswa di Indonesia yang sekitar 8 juta orang akan menjadi kekuatan besar untuk menggerakkan transformasi Indonesia,\" jelasnya.\n",
    "punc = '''!()[]{};:'’\"\\,<>/?@#$%^&*_~'''\n",
    "#words_to_remove = ['ini','juga','hal','dan','dengan','adalah','untuk','kita','yang','tetapi','saja','maka','akan', 'di', 'secara']\n",
    "\n",
    "def remove_punc(teks) :\n",
    "    for a in teks:\n",
    "        if a in punc:\n",
    "            teks = teks.replace(a, \"\")\n",
    "    # Create a regular expression pattern to match the words to remove with word boundaries\n",
    "    #pattern = r'\\b(?:' + '|'.join(re.escape(word) for word in words_to_remove) + r')\\b'\n",
    "\n",
    "    # Replace matched words with an empty string\n",
    "    #teks = re.sub(pattern, '', teks)\n",
    "    return teks"
   ]
  },
  {
   "cell_type": "code",
   "execution_count": 9,
   "id": "5758be77",
   "metadata": {},
   "outputs": [],
   "source": [
    "factory = StopWordRemoverFactory()\n",
    "stopword = factory.create_stop_word_remover()\n",
    "stopwordRemover = stopword.remove(kalimat)"
   ]
  },
  {
   "cell_type": "code",
   "execution_count": 5,
   "id": "df873af5",
   "metadata": {},
   "outputs": [
    {
     "data": {
      "text/plain": [
       "'laporan wartawan tribunnews.com- aisyah nursyamsi tribunnews.com jakarta - juru bicara pemerintah untuk covid- dr. reisa broto asmoro menyebutkan jika saat ini jumlah vaksin lengkap telah mencapai persen dari juta sasaran.namun ia pun kembali mengingatkan jika angka tersebut harus terus ditingkatkan. pasalnya indonesia memiliki target capaian vaksin harus sampai persen pada desember nanti. tepatnya sebelum jam saat tahun baru berganti ungkap reisa pada konferensi pers virtual jumat. kata reisa indonesia sudah menerima cukup banyak vaksin. yaitu sudah hampir juta dosis. selain itu kata dr reisa jutaan vaksin lainnya akan terus berdatangan termasuk akhir pekan ini. maka segera divaksin bagi yang belum dan lengkap bagi mereka yang baru menerima satu dosis. pastikan cakupan vaksinasi terutama lansia tinggi. terutama di semua provinsi dan kabupaten kota yang masih rendah katanya lagi. reisa pun kembali mewanti-wanti jika vaksin dapat menekan angka kematian dan perawatan rumah sakit secara drastis. who menjelaskan bahwa fungsi vaksin tidak diukur dari efikasi namun dari kemampuan vaksinasi memberikan memori kepada sel tubuh. sehingga selalu membangun imunitas pada setiap virus yang masuk pungkasnya.'"
      ]
     },
     "execution_count": 5,
     "metadata": {},
     "output_type": "execute_result"
    }
   ],
   "source": [
    "kalimat = kalimat.lower()\n",
    "kalimat = remove_dots(kalimat)\n",
    "kalimat = re.sub(r'\\d', '',kalimat)\n",
    "kalimat = remove_punc(kalimat)\n",
    "kalimat = ' '.join(kalimat.split())\n",
    "kalimat"
   ]
  },
  {
   "cell_type": "code",
   "execution_count": 19,
   "id": "d3072c20",
   "metadata": {},
   "outputs": [
    {
     "ename": "ValueError",
     "evalue": "not enough values to unpack (expected 2, got 1)",
     "output_type": "error",
     "traceback": [
      "\u001b[1;31m---------------------------------------------------------------------------\u001b[0m",
      "\u001b[1;31mValueError\u001b[0m                                Traceback (most recent call last)",
      "\u001b[1;32m~\\AppData\\Local\\Temp\\ipykernel_13180\\465889423.py\u001b[0m in \u001b[0;36m<module>\u001b[1;34m\u001b[0m\n\u001b[1;32m----> 1\u001b[1;33m \u001b[0mbigram_tagger\u001b[0m \u001b[1;33m=\u001b[0m \u001b[0mnltk\u001b[0m\u001b[1;33m.\u001b[0m\u001b[0mBigramTagger\u001b[0m\u001b[1;33m(\u001b[0m\u001b[0mkalimat\u001b[0m\u001b[1;33m)\u001b[0m\u001b[1;33m\u001b[0m\u001b[1;33m\u001b[0m\u001b[0m\n\u001b[0m",
      "\u001b[1;32m~\\anaconda3\\lib\\site-packages\\nltk\\tag\\sequential.py\u001b[0m in \u001b[0;36m__init__\u001b[1;34m(self, train, model, backoff, cutoff, verbose)\u001b[0m\n\u001b[0;32m    390\u001b[0m \u001b[1;33m\u001b[0m\u001b[0m\n\u001b[0;32m    391\u001b[0m     \u001b[1;32mdef\u001b[0m \u001b[0m__init__\u001b[0m\u001b[1;33m(\u001b[0m\u001b[0mself\u001b[0m\u001b[1;33m,\u001b[0m \u001b[0mtrain\u001b[0m\u001b[1;33m=\u001b[0m\u001b[1;32mNone\u001b[0m\u001b[1;33m,\u001b[0m \u001b[0mmodel\u001b[0m\u001b[1;33m=\u001b[0m\u001b[1;32mNone\u001b[0m\u001b[1;33m,\u001b[0m \u001b[0mbackoff\u001b[0m\u001b[1;33m=\u001b[0m\u001b[1;32mNone\u001b[0m\u001b[1;33m,\u001b[0m \u001b[0mcutoff\u001b[0m\u001b[1;33m=\u001b[0m\u001b[1;36m0\u001b[0m\u001b[1;33m,\u001b[0m \u001b[0mverbose\u001b[0m\u001b[1;33m=\u001b[0m\u001b[1;32mFalse\u001b[0m\u001b[1;33m)\u001b[0m\u001b[1;33m:\u001b[0m\u001b[1;33m\u001b[0m\u001b[1;33m\u001b[0m\u001b[0m\n\u001b[1;32m--> 392\u001b[1;33m         \u001b[0msuper\u001b[0m\u001b[1;33m(\u001b[0m\u001b[1;33m)\u001b[0m\u001b[1;33m.\u001b[0m\u001b[0m__init__\u001b[0m\u001b[1;33m(\u001b[0m\u001b[1;36m2\u001b[0m\u001b[1;33m,\u001b[0m \u001b[0mtrain\u001b[0m\u001b[1;33m,\u001b[0m \u001b[0mmodel\u001b[0m\u001b[1;33m,\u001b[0m \u001b[0mbackoff\u001b[0m\u001b[1;33m,\u001b[0m \u001b[0mcutoff\u001b[0m\u001b[1;33m,\u001b[0m \u001b[0mverbose\u001b[0m\u001b[1;33m)\u001b[0m\u001b[1;33m\u001b[0m\u001b[1;33m\u001b[0m\u001b[0m\n\u001b[0m\u001b[0;32m    393\u001b[0m \u001b[1;33m\u001b[0m\u001b[0m\n\u001b[0;32m    394\u001b[0m \u001b[1;33m\u001b[0m\u001b[0m\n",
      "\u001b[1;32m~\\anaconda3\\lib\\site-packages\\nltk\\tag\\sequential.py\u001b[0m in \u001b[0;36m__init__\u001b[1;34m(self, n, train, model, backoff, cutoff, verbose)\u001b[0m\n\u001b[0;32m    294\u001b[0m \u001b[1;33m\u001b[0m\u001b[0m\n\u001b[0;32m    295\u001b[0m         \u001b[1;32mif\u001b[0m \u001b[0mtrain\u001b[0m\u001b[1;33m:\u001b[0m\u001b[1;33m\u001b[0m\u001b[1;33m\u001b[0m\u001b[0m\n\u001b[1;32m--> 296\u001b[1;33m             \u001b[0mself\u001b[0m\u001b[1;33m.\u001b[0m\u001b[0m_train\u001b[0m\u001b[1;33m(\u001b[0m\u001b[0mtrain\u001b[0m\u001b[1;33m,\u001b[0m \u001b[0mcutoff\u001b[0m\u001b[1;33m,\u001b[0m \u001b[0mverbose\u001b[0m\u001b[1;33m)\u001b[0m\u001b[1;33m\u001b[0m\u001b[1;33m\u001b[0m\u001b[0m\n\u001b[0m\u001b[0;32m    297\u001b[0m \u001b[1;33m\u001b[0m\u001b[0m\n\u001b[0;32m    298\u001b[0m     \u001b[1;32mdef\u001b[0m \u001b[0mencode_json_obj\u001b[0m\u001b[1;33m(\u001b[0m\u001b[0mself\u001b[0m\u001b[1;33m)\u001b[0m\u001b[1;33m:\u001b[0m\u001b[1;33m\u001b[0m\u001b[1;33m\u001b[0m\u001b[0m\n",
      "\u001b[1;32m~\\anaconda3\\lib\\site-packages\\nltk\\tag\\sequential.py\u001b[0m in \u001b[0;36m_train\u001b[1;34m(self, tagged_corpus, cutoff, verbose)\u001b[0m\n\u001b[0;32m    177\u001b[0m         \u001b[0mfd\u001b[0m \u001b[1;33m=\u001b[0m \u001b[0mConditionalFreqDist\u001b[0m\u001b[1;33m(\u001b[0m\u001b[1;33m)\u001b[0m\u001b[1;33m\u001b[0m\u001b[1;33m\u001b[0m\u001b[0m\n\u001b[0;32m    178\u001b[0m         \u001b[1;32mfor\u001b[0m \u001b[0msentence\u001b[0m \u001b[1;32min\u001b[0m \u001b[0mtagged_corpus\u001b[0m\u001b[1;33m:\u001b[0m\u001b[1;33m\u001b[0m\u001b[1;33m\u001b[0m\u001b[0m\n\u001b[1;32m--> 179\u001b[1;33m             \u001b[0mtokens\u001b[0m\u001b[1;33m,\u001b[0m \u001b[0mtags\u001b[0m \u001b[1;33m=\u001b[0m \u001b[0mzip\u001b[0m\u001b[1;33m(\u001b[0m\u001b[1;33m*\u001b[0m\u001b[0msentence\u001b[0m\u001b[1;33m)\u001b[0m\u001b[1;33m\u001b[0m\u001b[1;33m\u001b[0m\u001b[0m\n\u001b[0m\u001b[0;32m    180\u001b[0m             \u001b[1;32mfor\u001b[0m \u001b[0mindex\u001b[0m\u001b[1;33m,\u001b[0m \u001b[1;33m(\u001b[0m\u001b[0mtoken\u001b[0m\u001b[1;33m,\u001b[0m \u001b[0mtag\u001b[0m\u001b[1;33m)\u001b[0m \u001b[1;32min\u001b[0m \u001b[0menumerate\u001b[0m\u001b[1;33m(\u001b[0m\u001b[0msentence\u001b[0m\u001b[1;33m)\u001b[0m\u001b[1;33m:\u001b[0m\u001b[1;33m\u001b[0m\u001b[1;33m\u001b[0m\u001b[0m\n\u001b[0;32m    181\u001b[0m                 \u001b[1;31m# Record the event.\u001b[0m\u001b[1;33m\u001b[0m\u001b[1;33m\u001b[0m\u001b[0m\n",
      "\u001b[1;31mValueError\u001b[0m: not enough values to unpack (expected 2, got 1)"
     ]
    }
   ],
   "source": [
    "bigram_tagger = nltk.BigramTagger(kalimat)"
   ]
  },
  {
   "cell_type": "code",
   "execution_count": 17,
   "id": "4cfe9cef",
   "metadata": {},
   "outputs": [
    {
     "name": "stderr",
     "output_type": "stream",
     "text": [
      "C:\\Users\\Legion\\anaconda3\\lib\\site-packages\\sklearn\\base.py:318: UserWarning: Trying to unpickle estimator DictVectorizer from version 0.22 when using version 1.2.2. This might lead to breaking code or invalid results. Use at your own risk. For more info please refer to:\n",
      "https://scikit-learn.org/stable/model_persistence.html#security-maintainability-limitations\n",
      "  warnings.warn(\n",
      "C:\\Users\\Legion\\anaconda3\\lib\\site-packages\\sklearn\\base.py:318: UserWarning: Trying to unpickle estimator DecisionTreeClassifier from version 0.22 when using version 1.2.2. This might lead to breaking code or invalid results. Use at your own risk. For more info please refer to:\n",
      "https://scikit-learn.org/stable/model_persistence.html#security-maintainability-limitations\n",
      "  warnings.warn(\n",
      "C:\\Users\\Legion\\anaconda3\\lib\\site-packages\\sklearn\\base.py:318: UserWarning: Trying to unpickle estimator RandomForestClassifier from version 0.22 when using version 1.2.2. This might lead to breaking code or invalid results. Use at your own risk. For more info please refer to:\n",
      "https://scikit-learn.org/stable/model_persistence.html#security-maintainability-limitations\n",
      "  warnings.warn(\n",
      "C:\\Users\\Legion\\anaconda3\\lib\\site-packages\\sklearn\\base.py:318: UserWarning: Trying to unpickle estimator Pipeline from version 0.22 when using version 1.2.2. This might lead to breaking code or invalid results. Use at your own risk. For more info please refer to:\n",
      "https://scikit-learn.org/stable/model_persistence.html#security-maintainability-limitations\n",
      "  warnings.warn(\n"
     ]
    },
    {
     "data": {
      "text/plain": [
       "[('laporan', 'NN'),\n",
       " ('wartawan', 'NN'),\n",
       " ('tribunnews.com', 'FW'),\n",
       " ('-', 'SYM'),\n",
       " ('aisyah', 'NN'),\n",
       " ('nursyamsi', 'NN'),\n",
       " ('tribunnews.com', 'FW'),\n",
       " ('jakarta', 'NNP'),\n",
       " ('-', 'SYM'),\n",
       " ('juru', 'NN'),\n",
       " ('bicara', 'VP'),\n",
       " ('pemerintah', 'NN'),\n",
       " ('untuk', 'SC'),\n",
       " ('covid', 'FW'),\n",
       " ('-', 'SYM'),\n",
       " ('dr', 'NN'),\n",
       " ('.', 'SYM'),\n",
       " ('reisa', 'NN'),\n",
       " ('broto', 'NN'),\n",
       " ('asmoro', 'NN'),\n",
       " ('menyebutkan', 'VP'),\n",
       " ('jika', 'SC'),\n",
       " ('saat', 'SC'),\n",
       " ('ini', 'PR'),\n",
       " ('jumlah vaksin lengkap', 'NP'),\n",
       " ('telah', 'ADV'),\n",
       " ('mencapai', 'VP'),\n",
       " ('persen', 'NUM'),\n",
       " ('dari', 'IN'),\n",
       " ('juta', 'NUM'),\n",
       " ('sasaran', 'NN'),\n",
       " ('.', 'SYM'),\n",
       " ('namun', 'CC'),\n",
       " ('ia', 'PR'),\n",
       " ('pun', 'RP'),\n",
       " ('kembali', 'VP'),\n",
       " ('mengingatkan', 'VP'),\n",
       " ('jika', 'SC'),\n",
       " ('angka', 'NN'),\n",
       " ('tersebut', 'DT'),\n",
       " ('harus', 'ADV'),\n",
       " ('terus', 'ADV'),\n",
       " ('ditingkatkan', 'VP'),\n",
       " ('.', 'SYM'),\n",
       " ('pasal', 'NN'),\n",
       " ('nya', 'PR'),\n",
       " ('indonesia', 'NN'),\n",
       " ('memiliki', 'VP'),\n",
       " ('target', 'NN'),\n",
       " ('capaian', 'NN'),\n",
       " ('vaksin', 'NN'),\n",
       " ('harus', 'ADV'),\n",
       " ('sampai', 'IN'),\n",
       " ('persen', 'NUM'),\n",
       " ('pada', 'IN'),\n",
       " ('desember', 'FW'),\n",
       " ('nanti', 'VP'),\n",
       " ('.', 'SYM'),\n",
       " ('tepat', 'ADJP'),\n",
       " ('nya', 'DT'),\n",
       " ('sebelum', 'SC'),\n",
       " ('jam', 'NN'),\n",
       " ('saat', 'SC'),\n",
       " ('tahun baru', 'NP'),\n",
       " ('berganti', 'VP'),\n",
       " ('ungkap', 'VP'),\n",
       " ('reisa', 'NN'),\n",
       " ('pada', 'IN'),\n",
       " ('konferensi pers virtual', 'NP'),\n",
       " ('jumat', 'NN'),\n",
       " ('.', 'SYM'),\n",
       " ('kata', 'NN'),\n",
       " ('reisa', 'NN'),\n",
       " ('indonesia', 'NN'),\n",
       " ('sudah', 'ADV'),\n",
       " ('menerima', 'VP'),\n",
       " ('cukup', 'ADV'),\n",
       " ('banyak', 'DT'),\n",
       " ('vaksin', 'NN'),\n",
       " ('.', 'SYM'),\n",
       " ('yaitu', 'SC'),\n",
       " ('sudah', 'ADV'),\n",
       " ('hampir', 'ADV'),\n",
       " ('juta', 'NUM'),\n",
       " ('dosis', 'NN'),\n",
       " ('.', 'SYM'),\n",
       " ('selain', 'CC'),\n",
       " ('itu', 'DT'),\n",
       " ('kata', 'NN'),\n",
       " ('dr', 'NN'),\n",
       " ('reisa', 'NN'),\n",
       " ('jutaan', 'NUM'),\n",
       " ('vaksin lain', 'NP'),\n",
       " ('nya', 'DT'),\n",
       " ('akan', 'ADV'),\n",
       " ('terus', 'ADV'),\n",
       " ('berdatangan', 'VP'),\n",
       " ('termasuk', 'VP'),\n",
       " ('akhir', 'NN'),\n",
       " ('pekan', 'NN'),\n",
       " ('ini', 'DT'),\n",
       " ('.', 'SYM'),\n",
       " ('maka', 'SC'),\n",
       " ('segera', 'ADV'),\n",
       " ('divaksin', 'VP'),\n",
       " ('bagi', 'IN'),\n",
       " ('yang', 'PR'),\n",
       " ('belum', 'NEG'),\n",
       " ('dan', 'CC'),\n",
       " ('lengkap', 'ADJP'),\n",
       " ('bagi', 'IN'),\n",
       " ('mereka', 'PR'),\n",
       " ('yang', 'PR'),\n",
       " ('baru', 'ADJP'),\n",
       " ('menerima', 'VP'),\n",
       " ('satu', 'NUM'),\n",
       " ('dosis', 'NN'),\n",
       " ('.', 'SYM'),\n",
       " ('pastikan', 'VP'),\n",
       " ('cakupan vaksinasi terutama lansia tinggi', 'NP'),\n",
       " ('.', 'SYM'),\n",
       " ('terutama', 'ADJP'),\n",
       " ('di', 'IN'),\n",
       " ('semua', 'DT'),\n",
       " ('provinsi', 'NN'),\n",
       " ('dan', 'CC'),\n",
       " ('kabupaten', 'NN'),\n",
       " ('kota', 'NN'),\n",
       " ('yang', 'PR'),\n",
       " ('masih rendah', 'ADJP'),\n",
       " ('kata', 'VP'),\n",
       " ('nya', 'PR'),\n",
       " ('lagi', 'ADV'),\n",
       " ('.', 'SYM'),\n",
       " ('reisa', 'NN'),\n",
       " ('pun', 'RP'),\n",
       " ('kembali', 'VP'),\n",
       " ('mewanti-wanti', 'VP'),\n",
       " ('jika', 'SC'),\n",
       " ('vaksin', 'NN'),\n",
       " ('dapat', 'ADV'),\n",
       " ('menekan', 'VP'),\n",
       " ('angka', 'NN'),\n",
       " ('kematian', 'NN'),\n",
       " ('dan', 'CC'),\n",
       " ('perawatan', 'NN'),\n",
       " ('rumah', 'NN'),\n",
       " ('sakit', 'NN'),\n",
       " ('secara', 'IN'),\n",
       " ('drastis', 'ADJP'),\n",
       " ('.', 'SYM'),\n",
       " ('who', 'NN'),\n",
       " ('menjelaskan', 'VP'),\n",
       " ('bahwa', 'SC'),\n",
       " ('fungsi', 'NN'),\n",
       " ('vaksin', 'NN'),\n",
       " ('tidak diukur', 'VP'),\n",
       " ('dari', 'IN'),\n",
       " ('efikasi', 'NN'),\n",
       " ('namun', 'CC'),\n",
       " ('dari', 'IN'),\n",
       " ('kemampuan', 'NN'),\n",
       " ('vaksinasi', 'NN'),\n",
       " ('memberikan', 'VP'),\n",
       " ('memori', 'NN'),\n",
       " ('kepada', 'IN'),\n",
       " ('sel', 'NN'),\n",
       " ('tubuh', 'NN'),\n",
       " ('.', 'SYM'),\n",
       " ('sehingga', 'SC'),\n",
       " ('selalu', 'ADV'),\n",
       " ('membangun', 'VP'),\n",
       " ('imunitas', 'NN'),\n",
       " ('pada', 'IN'),\n",
       " ('setiap', 'DT'),\n",
       " ('virus', 'NN'),\n",
       " ('yang', 'PR'),\n",
       " ('masuk', 'VP'),\n",
       " ('pungkas', 'VP'),\n",
       " ('nya', 'PR'),\n",
       " ('.', 'SYM')]"
      ]
     },
     "execution_count": 17,
     "metadata": {},
     "output_type": "execute_result"
    }
   ],
   "source": [
    "from nlp_id.postag import PosTag\n",
    "postagger = PosTag() \n",
    "\n",
    "a = postagger.get_phrase_tag(kalimat)\n",
    "a"
   ]
  },
  {
   "cell_type": "code",
   "execution_count": 22,
   "id": "9a3ee029",
   "metadata": {},
   "outputs": [
    {
     "data": {
      "text/plain": [
       "[('Maka', 'SC'),\n",
       " (',', 'SYM'),\n",
       " ('Kepala Negara', 'NP'),\n",
       " ('mengajak', 'VP'),\n",
       " ('seluruh', 'DT'),\n",
       " ('elemen', 'NN'),\n",
       " ('masyarakat', 'NN'),\n",
       " ('untuk', 'SC'),\n",
       " ('memberikan', 'VP'),\n",
       " ('kontribusi', 'NN'),\n",
       " ('nya', 'PR'),\n",
       " ('.', 'SYM')]"
      ]
     },
     "execution_count": 22,
     "metadata": {},
     "output_type": "execute_result"
    }
   ],
   "source": [
    "#Laporan Wartawan Tribunnews.com, Fransiskus AdhiyudaTRIBUNNEWS.COM, JAKARTA - Presiden Joko Widodo (Jokowi) berharap perspektif technopreneur atau kewirausahaan berbasis teknologi yang selama ini menjadi keunggulan Universitas Multimedia Nusantara (UMN) ini juga sangat penting untuk diperkuat. Pasalnya, Jokowi menilai hal tersebut melatih mahasiswa untuk memecahkan sejumlah masalah dengan memanfaatkan teknologi. Hal itu disampaikan Presiden Jokowi dalam Webinar Kebangsaaan dan Dies Natalis 15 Tahun UMN yang disiarkan kanal YouTube Universtitas Multimedia Nusantara, Kamis (25/11/2021). \"Melatih mahasiswa untuk memecahkan masalah sosial, masalah kemanusian, dan masalah kebangsaan dengan memanfaatkan teknologi secara inovatif dan berkewirausahaan dengan perspektif yang ramah lingkungan dan berkelanjutan,\" kata Jokowi. Lebih lanjut, Presiden Jokowi mengatakan, pengembangan iptek dan inovasi yang berwawasan kewirausahaan dan berkelanjutan adalah kunci untuk menjadi negara maju. \"Kita harus secepatnya keluar dari jebakan pengekspor bahan mentah dan secepatnya memperkokoh industrialisasi hijau, memanfaatkan green technology,\" ucap Jokowi. Selain itu, langkah pembangunan harus memberikan nilai tambah yang lebih besar bagi perekonomian nasional, menciptakan lapangan kerja yang semakin banyak menurunkan angka pengangguran dan juga sekaligus menekan angka kemiskinan. Menurut Jokowi, pekerjaan besar ini tidak bisa dilakukan oleh pemerintah saja. Maka, Kepala Negara mengajak seluruh elemen masyarakat untuk memberikan kontribusinya. Terutama, kolaborasi antara perguruan tinggi dengan industri dan masyarakat luas menjadi sangatlah penting\"Kita butuh para peneliti dan ilmuwan hebat, tetapi kita butuh para entrepreneur, para technopreneur yang sangat banyak, yang merintis diri menjadi industriawan hebat dan menjadikan indonesia menjadi negara industri yang berpengaruh,\" ujar Jokowi. \"Saya berharap perguruan tinggi di seluruh indonesia untuk semakin serius bergerak ke arah ini dengan jumlah mahasiswa di Indonesia yang sekitar 8 juta orang akan menjadi kekuatan besar untuk menggerakkan transformasi Indonesia,\" jelasnya.'\n",
    "b = postagger.get_phrase_tag('Maka, Kepala Negara mengajak seluruh elemen masyarakat untuk memberikan kontribusinya.') \n",
    "b"
   ]
  },
  {
   "cell_type": "code",
   "execution_count": 59,
   "id": "491df965",
   "metadata": {},
   "outputs": [],
   "source": [
    "c=[]\n",
    "i=0\n",
    "for a in b:\n",
    "    if b[i][1] == 'NN':\n",
    "        if b[i+1][1] == 'VP':\n",
    "            c.append([b[i], b[i+1]])\n",
    "    i=i+1"
   ]
  },
  {
   "cell_type": "code",
   "execution_count": 60,
   "id": "1a36840c",
   "metadata": {},
   "outputs": [
    {
     "data": {
      "text/plain": [
       "[[('kewirausahaan', 'NN'), ('berbasis', 'VP')],\n",
       " [('negara', 'NN'), ('maju', 'VP')],\n",
       " [('nilai', 'NN'), ('tambah', 'VP')],\n",
       " [('indonesia', 'NN'), ('menjadi', 'VP')]]"
      ]
     },
     "execution_count": 60,
     "metadata": {},
     "output_type": "execute_result"
    }
   ],
   "source": [
    "c"
   ]
  },
  {
   "cell_type": "code",
   "execution_count": 20,
   "id": "ec3c56d3",
   "metadata": {},
   "outputs": [
    {
     "name": "stdout",
     "output_type": "stream",
     "text": [
      "['Hope,', 'is', 'the', 'only', 'thing_that', 'fear!', 'Hunger', 'Games', '#Hope']\n"
     ]
    }
   ],
   "source": [
    "# import MWETokenizer() method from nltk \n",
    "from nltk.tokenize import MWETokenizer \n",
    "   \n",
    "# Create a reference variable for Class MWETokenizer \n",
    "tk = MWETokenizer([('Hungr', 'Games'), ('thing', 'that' )]) \n",
    "tk.add_mwe(('who', 'are', 'you')) \n",
    "   \n",
    "# Create a string input \n",
    "gfg = \"Hope, is the only thing that fear! Hunger Games #Hope\"\n",
    "   \n",
    "# Use tokenize method \n",
    "geek = tk.tokenize(gfg.split()) \n",
    "   \n",
    "print(geek) "
   ]
  },
  {
   "cell_type": "code",
   "execution_count": 4,
   "id": "8ce88bce",
   "metadata": {},
   "outputs": [
    {
     "name": "stdout",
     "output_type": "stream",
     "text": [
      "Saya akan datang pukul 1200 WIB. Dr. John Smith, S.\n"
     ]
    }
   ],
   "source": [
    "def remove_dots(text):\n",
    "    # Hilangkan tanda titik pada waktu\n",
    "    text = re.sub(r'(\\d+)\\.(\\d+)', r'\\1\\2', text)\n",
    "    \n",
    "    # Hilangkan tanda titik pada tanda gelar kecuali jika muncul di akhir kalimat\n",
    "    #text = re.sub(r'(\\w+)\\.', r'\\1', text)\n",
    "    \n",
    "    return text\n",
    "\n",
    "# Contoh teks yang berisi tanda titik pada waktu dan tanda gelar\n",
    "teks = \"Saya akan datang pukul 12.00 WIB. Dr. John Smith, S.\"\n",
    "\n",
    "# Panggil fungsi remove_dots untuk menghilangkan tanda titik\n",
    "teks_tanpa_dots = remove_dots(teks)\n",
    "\n",
    "# Tampilkan teks yang telah diubah\n",
    "print(teks_tanpa_dots)"
   ]
  },
  {
   "cell_type": "code",
   "execution_count": 19,
   "id": "2a5e782c",
   "metadata": {},
   "outputs": [
    {
     "data": {
      "text/plain": [
       "['laporan wartawan tribunnews.com- aisyah nursyamsi tribunnews.com jakarta - juru bicara pemerintah untuk covid- dr. reisa broto asmoro menyebutkan jika saat ini jumlah vaksin lengkap telah mencapai persen dari juta sasaran.namun ia pun kembali mengingatkan jika angka tersebut harus terus ditingkatkan.',\n",
       " 'pasalnya indonesia memiliki target capaian vaksin harus sampai persen pada desember nanti.',\n",
       " 'tepatnya sebelum jam saat tahun baru berganti ungkap reisa pada konferensi pers virtual jumat.',\n",
       " 'kata reisa indonesia sudah menerima cukup banyak vaksin.',\n",
       " 'yaitu sudah hampir juta dosis.',\n",
       " 'selain itu kata dr reisa jutaan vaksin lainnya akan terus berdatangan termasuk akhir pekan ini.',\n",
       " 'maka segera divaksin bagi yang belum dan lengkap bagi mereka yang baru menerima satu dosis.',\n",
       " 'pastikan cakupan vaksinasi terutama lansia tinggi.',\n",
       " 'terutama di semua provinsi dan kabupaten kota yang masih rendah katanya lagi.',\n",
       " 'reisa pun kembali mewanti-wanti jika vaksin dapat menekan angka kematian dan perawatan rumah sakit secara drastis.',\n",
       " 'who menjelaskan bahwa fungsi vaksin tidak diukur dari efikasi namun dari kemampuan vaksinasi memberikan memori kepada sel tubuh.',\n",
       " 'sehingga selalu membangun imunitas pada setiap virus yang masuk pungkasnya.']"
      ]
     },
     "execution_count": 19,
     "metadata": {},
     "output_type": "execute_result"
    }
   ],
   "source": [
    "from nltk.tokenize import sent_tokenize\n",
    "\n",
    "c = sent_tokenize(kalimat)\n",
    "c"
   ]
  },
  {
   "cell_type": "code",
   "execution_count": 6,
   "id": "6df4623f",
   "metadata": {},
   "outputs": [],
   "source": [
    "from nltk.tag import CRFTagger\n",
    "ct = CRFTagger()\n",
    "ct.set_model_file('all_indo_man_tag_corpus_model.crf.tagger')"
   ]
  },
  {
   "cell_type": "code",
   "execution_count": 24,
   "id": "f88e0837",
   "metadata": {},
   "outputs": [
    {
     "name": "stdout",
     "output_type": "stream",
     "text": [
      "[('reisa', 'MD'), ('pun', 'RP'), ('kembali', 'VB'), ('mewanti-wanti', 'NN'), ('jika', 'SC'), ('vaksin', 'NN'), ('dapat', 'MD'), ('menekan', 'VB'), ('angka', 'NN'), ('kematian', 'NN'), ('dan', 'CC'), ('perawatan', 'NN'), ('di', 'IN'), ('rumah', 'NN'), ('sakit', 'JJ'), ('secara', 'IN'), ('drastis.', 'NNP')]\n"
     ]
    }
   ],
   "source": [
    "text1 = \"reisa pun kembali mewanti-wanti jika vaksin dapat menekan angka kematian dan perawatan di rumah sakit secara drastis.\"\n",
    "post_tag1 = ct.tag_sents([text1.split()]) # Hati-hati ... Stuktur Data ini adalah \"List-of-Lists\"!!!...\n",
    "post_tag1 = post_tag1[0]\n",
    "print(post_tag1)"
   ]
  },
  {
   "cell_type": "code",
   "execution_count": 26,
   "id": "602520c5",
   "metadata": {},
   "outputs": [
    {
     "name": "stderr",
     "output_type": "stream",
     "text": [
      "[nltk_data] Downloading package treebank to\n",
      "[nltk_data]     C:\\Users\\Legion\\AppData\\Roaming\\nltk_data...\n",
      "[nltk_data]   Unzipping corpora\\treebank.zip.\n"
     ]
    },
    {
     "data": {
      "text/plain": [
       "True"
      ]
     },
     "execution_count": 26,
     "metadata": {},
     "output_type": "execute_result"
    }
   ],
   "source": [
    "nltk.download('treebank')"
   ]
  },
  {
   "cell_type": "code",
   "execution_count": 27,
   "id": "fc985899",
   "metadata": {},
   "outputs": [
    {
     "name": "stdout",
     "output_type": "stream",
     "text": [
      "[('This', 'DT'), ('is', 'VBZ'), ('a', 'DT'), ('simple', 'JJ'), ('example', 'NN'), ('of', 'IN'), ('a', 'DT'), ('bigram', None), ('tagger', None), ('.', None)]\n"
     ]
    }
   ],
   "source": [
    "import nltk\n",
    "from nltk.corpus import treebank\n",
    "from nltk.tag import BigramTagger\n",
    "from nltk.tokenize import word_tokenize\n",
    "\n",
    "# Sample sentence\n",
    "sentence = \"This is a simple example of a bigram tagger.\"\n",
    "\n",
    "# Tokenize the sentence\n",
    "tokens = word_tokenize(sentence)\n",
    "\n",
    "# Load a tagged corpus (e.g., the Penn Treebank corpus) for training\n",
    "corpus = treebank.tagged_sents()\n",
    "\n",
    "# Train a bigram tagger on the corpus\n",
    "bigram_tagger = BigramTagger(corpus)\n",
    "\n",
    "# Tag the sentence using the trained bigram tagger\n",
    "tags = bigram_tagger.tag(tokens)\n",
    "\n",
    "# Print the tagged sentence\n",
    "print(tags)\n"
   ]
  }
 ],
 "metadata": {
  "kernelspec": {
   "display_name": "Python 3 (ipykernel)",
   "language": "python",
   "name": "python3"
  },
  "language_info": {
   "codemirror_mode": {
    "name": "ipython",
    "version": 3
   },
   "file_extension": ".py",
   "mimetype": "text/x-python",
   "name": "python",
   "nbconvert_exporter": "python",
   "pygments_lexer": "ipython3",
   "version": "3.9.13"
  }
 },
 "nbformat": 4,
 "nbformat_minor": 5
}
