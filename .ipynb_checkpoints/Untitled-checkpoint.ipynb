{
 "cells": [
  {
   "cell_type": "code",
   "execution_count": 2,
   "id": "9861660c",
   "metadata": {},
   "outputs": [
    {
     "name": "stdout",
     "output_type": "stream",
     "text": [
      "Collecting sastrawi\n",
      "  Downloading Sastrawi-1.0.1-py2.py3-none-any.whl (209 kB)\n",
      "     -------------------------------------- 209.7/209.7 kB 4.2 MB/s eta 0:00:00\n",
      "Installing collected packages: sastrawi\n",
      "Successfully installed sastrawi-1.0.1\n"
     ]
    }
   ],
   "source": [
    "#!pip install sastrawi"
   ]
  },
  {
   "cell_type": "code",
   "execution_count": 87,
   "id": "e16181fb",
   "metadata": {},
   "outputs": [
    {
     "name": "stdout",
     "output_type": "stream",
     "text": [
      "Collecting python-Levenshtein\n",
      "  Downloading python_Levenshtein-0.22.0-py3-none-any.whl (9.4 kB)\n",
      "Collecting Levenshtein==0.22.0\n",
      "  Downloading Levenshtein-0.22.0-cp39-cp39-win_amd64.whl (101 kB)\n",
      "     -------------------------------------- 101.0/101.0 kB 1.9 MB/s eta 0:00:00\n",
      "Collecting rapidfuzz<4.0.0,>=2.3.0\n",
      "  Downloading rapidfuzz-3.3.1-cp39-cp39-win_amd64.whl (1.8 MB)\n",
      "     ---------------------------------------- 1.8/1.8 MB 12.9 MB/s eta 0:00:00\n",
      "Installing collected packages: rapidfuzz, Levenshtein, python-Levenshtein\n",
      "Successfully installed Levenshtein-0.22.0 python-Levenshtein-0.22.0 rapidfuzz-3.3.1\n"
     ]
    }
   ],
   "source": [
    "#pip install fuzzywuzzy\n",
    "\n",
    "#!pip install python-Levenshtein"
   ]
  },
  {
   "cell_type": "code",
   "execution_count": 202,
   "id": "05304419",
   "metadata": {},
   "outputs": [
    {
     "name": "stdout",
     "output_type": "stream",
     "text": [
      "indonesia ajar\n",
      "indonesia sudah\n"
     ]
    }
   ],
   "source": [
    "# import Sastrawi package\n",
    "from Sastrawi.Stemmer.StemmerFactory import StemmerFactory\n",
    "\n",
    "# create stemmer\n",
    "factory = StemmerFactory()\n",
    "stemmer = factory.create_stemmer()\n",
    "\n",
    "# stem\n",
    "sentence = 'indonesia pelajaran'\n",
    "output   = stemmer.stem(sentence)\n",
    "\n",
    "print(output)\n",
    "# ekonomi indonesia sedang dalam tumbuh yang bangga\n",
    "\n",
    "print(stemmer.stem('indonesia mensudahi'))\n",
    "# mereka tiru"
   ]
  },
  {
   "cell_type": "code",
   "execution_count": 1,
   "id": "9131ce62",
   "metadata": {},
   "outputs": [],
   "source": [
    "import requests\n",
    "import string\n",
    "import re\n",
    "from flask import Flask, render_template, request\n",
    "from bs4 import BeautifulSoup\n",
    "import nltk\n",
    "from nltk.corpus import stopwords\n",
    "#nltk.download('stopwords')"
   ]
  },
  {
   "cell_type": "code",
   "execution_count": 2,
   "id": "811eca0e",
   "metadata": {},
   "outputs": [],
   "source": [
    "def generate_N_grams(text,ngram=2):\n",
    "    words = [word for word in text.split(\" \") if word not in stopwords.words('indonesian')]  \n",
    "    print(\"Sentence after removing stopwords:\",words)\n",
    "    temp=zip(*[words[i:] for i in range(0,ngram)])\n",
    "    ans=[' '.join(ngram) for ngram in temp]\n",
    "    return ans"
   ]
  },
  {
   "cell_type": "code",
   "execution_count": 2,
   "id": "4f28153f",
   "metadata": {},
   "outputs": [],
   "source": [
    "kalimat = 'Laporan Wartawan Tribunnews.com- Aisyah Nursyamsi TRIBUNNEWS.COM, JAKARTA- Juru Bicara Pemerintah untuk Covid-19, dr. Reisa Broto Asmoro menyebutkan jika saat ini jumlah vaksin lengkap telah mencapai 44,7 persen dari 208 juta sasaran.Namun ia pun kembali mengingatkan jika angka tersebut harus terus ditingkatkan. Pasalnya, Indonesia memiliki target capaian vaksin harus sampai 70 persen pada 31 Desember 2021 nanti.  \"Tepatnya sebelum jam 24.00 saat tahun baru berganti,\" ungkap Reisa pada Konferensi Pers Virtual, Jumat ,(26/11/2021). Kata Reisa, Indonesia sudah menerima cukup banyak vaksin. Yaitu sudah hampir 360 juta dosis. Selain itu kata dr Reisa, jutaan vaksin lainnya akan terus berdatangan, termasuk akhir pekan ini. \"Maka, segera divaksin bagi yang belum dan lengkap bagi mereka yang baru menerima satu dosis. Pastikan cakupan vaksinasi terutama lansia, tinggi. Terutama di semua provinsi dan kabupaten kota yang masih rendah,\" katanya lagi. Reisa pun kembali mewanti-wanti jika vaksin dapat menekan angka kematian dan perawatan rumah sakit secara drastis. \"WHO menjelaskan bahwa fungsi vaksin tidak diukur dari efikasi, namun dari kemampuan vaksinasi memberikan memori kepada sel tubuh. Sehingga selalu membangun imunitas pada setiap virus yang masuk,\" pungkasnya.'\n",
    "#Laporan Wartawan Tribunnews.com- Aisyah Nursyamsi TRIBUNNEWS.COM, JAKARTA- Juru Bicara Pemerintah untuk Covid-19, dr. Reisa Broto Asmoro menyebutkan jika saat ini jumlah vaksin lengkap telah mencapai 44,7 persen dari 208 juta sasaran.Namun ia pun kembali mengingatkan jika angka tersebut harus terus ditingkatkan. Pasalnya, Indonesia memiliki target capaian vaksin harus sampai 70 persen pada 31 Desember 2021 nanti.  \"Tepatnya sebelum jam 24.00 saat tahun baru berganti,\" ungkap Reisa pada Konferensi Pers Virtual, Jumat ,(26/11/2021). Kata Reisa, Indonesia sudah menerima cukup banyak vaksin. Yaitu sudah hampir 360 juta dosis. Selain itu kata dr Reisa, jutaan vaksin lainnya akan terus berdatangan, termasuk akhir pekan ini. \"Maka, segera divaksin bagi yang belum dan lengkap bagi mereka yang baru menerima satu dosis. Pastikan cakupan vaksinasi terutama lansia, tinggi. Terutama di semua provinsi dan kabupaten kota yang masih rendah,\" katanya lagi. Reisa pun kembali mewanti-wanti jika vaksin dapat menekan angka kematian dan perawatan rumah sakit secara drastis. \"WHO menjelaskan bahwa fungsi vaksin tidak diukur dari efikasi, namun dari kemampuan vaksinasi memberikan memori kepada sel tubuh. Sehingga selalu membangun imunitas pada setiap virus yang masuk,\" pungkasnya.\n",
    "#Laporan Wartawan Tribunnews.com, Fransiskus AdhiyudaTRIBUNNEWS.COM, JAKARTA - Presiden Joko Widodo (Jokowi) berharap perspektif technopreneur atau kewirausahaan berbasis teknologi yang selama ini menjadi keunggulan Universitas Multimedia Nusantara (UMN) ini juga sangat penting untuk diperkuat.Pasalnya, Jokowi menilai hal tersebut melatih mahasiswa untuk memecahkan sejumlah masalah dengan memanfaatkan teknologi.Hal itu disampaikan Presiden Jokowi dalam Webinar Kebangsaaan dan Dies Natalis 15 Tahun UMN yang disiarkan kanal YouTube Universtitas Multimedia Nusantara, Kamis (25/11/2021).\"Melatih mahasiswa untuk memecahkan masalah sosial, masalah kemanusian, dan masalah kebangsaan dengan memanfaatkan teknologi secara inovatif dan berkewirausahaan dengan perspektif yang ramah lingkungan dan berkelanjutan,\" kata Jokowi.Lebih lanjut, Presiden Jokowi mengatakan, pengembangan iptek dan inovasi yang berwawasan kewirausahaan dan berkelanjutan adalah kunci untuk menjadi negara maju. \"Kita harus secepatnya keluar dari jebakan pengekspor bahan mentah dan secepatnya memperkokoh industrialisasi hijau, memanfaatkan green technology,\" ucap Jokowi.Selain itu, langkah pembangunan harus memberikan nilai tambah yang lebih besar bagi perekonomian nasional, menciptakan lapangan kerja yang semakin banyak menurunkan angka pengangguran dan juga sekaligus menekan angka kemiskinan. Menurut Jokowi, pekerjaan besar ini tidak bisa dilakukan oleh pemerintah saja. Maka, Kepala Negara mengajak seluruh elemen masyarakat untuk memberikan kontribusinya. Terutama, kolaborasi antara perguruan tinggi dengan industri dan masyarakat luas menjadi sangatlah penting\"Kita butuh para peneliti dan ilmuwan hebat, tetapi kita butuh para entrepreneur, para technopreneur yang sangat banyak, yang merintis diri menjadi industriawan hebat dan menjadikan indonesia menjadi negara industri yang berpengaruh,\" ujar Jokowi.\"Saya berharap perguruan tinggi di seluruh indonesia untuk semakin serius bergerak ke arah ini dengan jumlah mahasiswa di Indonesia yang sekitar 8 juta orang akan menjadi kekuatan besar untuk menggerakkan transformasi Indonesia,\" jelasnya.\n",
    "punc = '''!()[]{};:'’\"\\,<>./?@#$%^&*_~'''\n",
    "words_to_remove = ['ini','juga','hal','dan','dengan','adalah','untuk','kita','yang','tetapi','saja','maka','akan', 'di', 'secara']\n",
    "\n",
    "def remove_punc(teks) :\n",
    "    for a in teks:\n",
    "        if a in punc:\n",
    "            teks = teks.replace(a, \"\")\n",
    "    # Create a regular expression pattern to match the words to remove with word boundaries\n",
    "    pattern = r'\\b(?:' + '|'.join(re.escape(word) for word in words_to_remove) + r')\\b'\n",
    "\n",
    "    # Replace matched words with an empty string\n",
    "    teks = re.sub(pattern, '', teks)\n",
    "    return teks"
   ]
  },
  {
   "cell_type": "code",
   "execution_count": 3,
   "id": "44427828",
   "metadata": {},
   "outputs": [
    {
     "data": {
      "text/plain": [
       "'laporan wartawan tribunnewscom- aisyah nursyamsi tribunnewscom jakarta- juru bicara pemerintah covid- dr reisa broto asmoro menyebutkan jika saat jumlah vaksin lengkap telah mencapai persen dari juta sasarannamun ia pun kembali mengingatkan jika angka tersebut harus terus ditingkatkan pasalnya indonesia memiliki target capaian vaksin harus sampai persen pada desember nanti tepatnya sebelum jam saat tahun baru berganti ungkap reisa pada konferensi pers virtual jumat kata reisa indonesia sudah menerima cukup banyak vaksin yaitu sudah hampir juta dosis selain itu kata dr reisa jutaan vaksin lainnya terus berdatangan termasuk akhir pekan segera divaksin bagi belum lengkap bagi mereka baru menerima satu dosis pastikan cakupan vaksinasi terutama lansia tinggi terutama semua provinsi kabupaten kota masih rendah katanya lagi reisa pun kembali mewanti-wanti jika vaksin dapat menekan angka kematian perawatan rumah sakit drastis who menjelaskan bahwa fungsi vaksin tidak diukur dari efikasi namun dari kemampuan vaksinasi memberikan memori kepada sel tubuh sehingga selalu membangun imunitas pada setiap virus masuk pungkasnya'"
      ]
     },
     "execution_count": 3,
     "metadata": {},
     "output_type": "execute_result"
    }
   ],
   "source": [
    "kalimat = kalimat.lower()\n",
    "kalimat = re.sub(r'\\d', '',kalimat)\n",
    "kalimat = remove_punc(kalimat)\n",
    "kalimat = ' '.join(kalimat.split())\n",
    "kalimat"
   ]
  },
  {
   "cell_type": "code",
   "execution_count": 4,
   "id": "14c55463",
   "metadata": {},
   "outputs": [],
   "source": [
    "def generate_bigrams(text):\n",
    "    list_bigrams = []\n",
    "    words = text.split()  # Split the text into words\n",
    "    bigrams = [(words[i], words[i + 1]) for i in range(len(words) - 1)]\n",
    "    for bigram in bigrams:\n",
    "        bigrams = ' '.join(bigram)\n",
    "        list_bigrams.append(bigrams)\n",
    "    return list_bigrams"
   ]
  },
  {
   "cell_type": "code",
   "execution_count": 5,
   "id": "5c5c5bff",
   "metadata": {},
   "outputs": [],
   "source": [
    "list_kata = generate_bigrams(kalimat)"
   ]
  },
  {
   "cell_type": "code",
   "execution_count": 6,
   "id": "cae172c0",
   "metadata": {},
   "outputs": [],
   "source": [
    "import pandas as pd\n",
    "katamajemuk = pd.read_csv('listmajemuk.csv')\n",
    "list_katamajemuk = katamajemuk['kata majemuk'].values.tolist()"
   ]
  },
  {
   "cell_type": "code",
   "execution_count": 7,
   "id": "8055cf0a",
   "metadata": {},
   "outputs": [],
   "source": [
    "import jellyfish"
   ]
  },
  {
   "cell_type": "code",
   "execution_count": 8,
   "id": "09bdadc8",
   "metadata": {},
   "outputs": [],
   "source": [
    "def damerau_levenshtein(str1, str2):\n",
    "    len_str1, len_str2 = len(str1), len(str2)\n",
    "\n",
    "    # Create a matrix to store the edit distances\n",
    "    d = [[0] * (len_str2 + 1) for _ in range(len_str1 + 1)]\n",
    "\n",
    "    # Initialize the first row and column of the matrix\n",
    "    for i in range(len_str1 + 1):\n",
    "        d[i][0] = i\n",
    "    for j in range(len_str2 + 1):\n",
    "        d[0][j] = j\n",
    "\n",
    "    # Populate the matrix using dynamic programming\n",
    "    for i in range(1, len_str1 + 1):\n",
    "        for j in range(1, len_str2 + 1):\n",
    "            cost = 0 if str1[i - 1] == str2[j - 1] else 1\n",
    "\n",
    "            # Calculate the minimum of the three possible operations\n",
    "            d[i][j] = min(\n",
    "                d[i - 1][j] + 1,      # Deletion\n",
    "                d[i][j - 1] + 1,      # Insertion\n",
    "                d[i - 1][j - 1] + cost  # Substitution\n",
    "            )\n",
    "\n",
    "            # Check for a transposition (Damerau condition)\n",
    "            if i > 1 and j > 1 and str1[i - 1] == str2[j - 2] and str1[i - 2] == str2[j - 1]:\n",
    "                d[i][j] = min(d[i][j], d[i - 2][j - 2] + cost)\n",
    "\n",
    "    # The Damerau-Levenshtein distance is the value in the bottom-right cell of the matrix\n",
    "    return d[len_str1][len_str2]"
   ]
  },
  {
   "cell_type": "code",
   "execution_count": 182,
   "id": "d176a16a",
   "metadata": {},
   "outputs": [
    {
     "data": {
      "text/plain": [
       "2"
      ]
     },
     "execution_count": 182,
     "metadata": {},
     "output_type": "execute_result"
    }
   ],
   "source": [
    "distance1 = damerau_levenshtein(\"cba\", \"abc\")\n",
    "distance1"
   ]
  },
  {
   "cell_type": "code",
   "execution_count": 9,
   "id": "b273b4ef",
   "metadata": {},
   "outputs": [],
   "source": [
    "def jaccardsimilarity(list1, list2) :\n",
    "    s1 = set(list1)\n",
    "    s2 = set(list2)\n",
    "    return float(len(s1.intersection(s2))/len(s1.union(s2)))"
   ]
  },
  {
   "cell_type": "code",
   "execution_count": 10,
   "id": "0b6b32d9",
   "metadata": {},
   "outputs": [],
   "source": [
    "# Calculate Levenshtein distances\n",
    "data = []\n",
    "majemuk_terdeteksi = []\n",
    "kata_majemuk = []\n",
    "jaccard = []\n",
    "i=0\n",
    "j=0\n",
    "for a in list_kata:\n",
    "    for b in list_katamajemuk:\n",
    "        distance1 = damerau_levenshtein(list_kata[i], list_katamajemuk[j])\n",
    "        if (distance1<=3):\n",
    "            majemuk_terdeteksi.append(list_kata[i])\n",
    "            data.append([list_kata[i], list_katamajemuk[j], distance1, jellyfish.jaro_winkler(list_kata[i], list_katamajemuk[j])])\n",
    "        j=j+1\n",
    "    i=i+1\n",
    "    j=0\n",
    "\n",
    "res = []\n",
    "for i in majemuk_terdeteksi:\n",
    "    if i not in res:\n",
    "        res.append(i)"
   ]
  },
  {
   "cell_type": "code",
   "execution_count": 11,
   "id": "0b9c7ec1",
   "metadata": {},
   "outputs": [
    {
     "data": {
      "text/html": [
       "<div>\n",
       "<style scoped>\n",
       "    .dataframe tbody tr th:only-of-type {\n",
       "        vertical-align: middle;\n",
       "    }\n",
       "\n",
       "    .dataframe tbody tr th {\n",
       "        vertical-align: top;\n",
       "    }\n",
       "\n",
       "    .dataframe thead th {\n",
       "        text-align: right;\n",
       "    }\n",
       "</style>\n",
       "<table border=\"1\" class=\"dataframe\">\n",
       "  <thead>\n",
       "    <tr style=\"text-align: right;\">\n",
       "      <th></th>\n",
       "      <th>Majemuk terdeteksi</th>\n",
       "      <th>Majemuk Koreksi</th>\n",
       "      <th>Jumlah huruf typo</th>\n",
       "      <th>Jaccard</th>\n",
       "    </tr>\n",
       "  </thead>\n",
       "  <tbody>\n",
       "    <tr>\n",
       "      <th>17</th>\n",
       "      <td>rumah sakit</td>\n",
       "      <td>rumah sakit</td>\n",
       "      <td>0</td>\n",
       "      <td>1.000000</td>\n",
       "    </tr>\n",
       "    <tr>\n",
       "      <th>3</th>\n",
       "      <td>juru bicara</td>\n",
       "      <td>juru bicara</td>\n",
       "      <td>0</td>\n",
       "      <td>1.000000</td>\n",
       "    </tr>\n",
       "    <tr>\n",
       "      <th>10</th>\n",
       "      <td>itu kata</td>\n",
       "      <td>ibu kota</td>\n",
       "      <td>2</td>\n",
       "      <td>0.800000</td>\n",
       "    </tr>\n",
       "    <tr>\n",
       "      <th>15</th>\n",
       "      <td>menekan angka</td>\n",
       "      <td>menang angka</td>\n",
       "      <td>3</td>\n",
       "      <td>0.902234</td>\n",
       "    </tr>\n",
       "    <tr>\n",
       "      <th>14</th>\n",
       "      <td>akhir pekan</td>\n",
       "      <td>akhir kelak</td>\n",
       "      <td>3</td>\n",
       "      <td>0.905051</td>\n",
       "    </tr>\n",
       "    <tr>\n",
       "      <th>13</th>\n",
       "      <td>kata dr</td>\n",
       "      <td>mata air</td>\n",
       "      <td>3</td>\n",
       "      <td>0.779762</td>\n",
       "    </tr>\n",
       "    <tr>\n",
       "      <th>12</th>\n",
       "      <td>itu kata</td>\n",
       "      <td>tata kata</td>\n",
       "      <td>3</td>\n",
       "      <td>0.694444</td>\n",
       "    </tr>\n",
       "    <tr>\n",
       "      <th>11</th>\n",
       "      <td>itu kata</td>\n",
       "      <td>suku kata</td>\n",
       "      <td>3</td>\n",
       "      <td>0.750000</td>\n",
       "    </tr>\n",
       "    <tr>\n",
       "      <th>9</th>\n",
       "      <td>itu kata</td>\n",
       "      <td>ibu kaki</td>\n",
       "      <td>3</td>\n",
       "      <td>0.775000</td>\n",
       "    </tr>\n",
       "    <tr>\n",
       "      <th>0</th>\n",
       "      <td>juru bicara</td>\n",
       "      <td>jam bicara</td>\n",
       "      <td>3</td>\n",
       "      <td>0.858182</td>\n",
       "    </tr>\n",
       "    <tr>\n",
       "      <th>7</th>\n",
       "      <td>saat tahun</td>\n",
       "      <td>suku tahun</td>\n",
       "      <td>3</td>\n",
       "      <td>0.777143</td>\n",
       "    </tr>\n",
       "    <tr>\n",
       "      <th>6</th>\n",
       "      <td>juru bicara</td>\n",
       "      <td>putus bicara</td>\n",
       "      <td>3</td>\n",
       "      <td>0.856061</td>\n",
       "    </tr>\n",
       "    <tr>\n",
       "      <th>5</th>\n",
       "      <td>juru bicara</td>\n",
       "      <td>juru mitar</td>\n",
       "      <td>3</td>\n",
       "      <td>0.905455</td>\n",
       "    </tr>\n",
       "    <tr>\n",
       "      <th>4</th>\n",
       "      <td>juru bicara</td>\n",
       "      <td>juru cacar</td>\n",
       "      <td>3</td>\n",
       "      <td>0.921414</td>\n",
       "    </tr>\n",
       "    <tr>\n",
       "      <th>2</th>\n",
       "      <td>juru bicara</td>\n",
       "      <td>juru bayar</td>\n",
       "      <td>3</td>\n",
       "      <td>0.921414</td>\n",
       "    </tr>\n",
       "    <tr>\n",
       "      <th>1</th>\n",
       "      <td>juru bicara</td>\n",
       "      <td>juru bahasa</td>\n",
       "      <td>3</td>\n",
       "      <td>0.890909</td>\n",
       "    </tr>\n",
       "    <tr>\n",
       "      <th>16</th>\n",
       "      <td>rumah sakit</td>\n",
       "      <td>rumah makan</td>\n",
       "      <td>3</td>\n",
       "      <td>0.890909</td>\n",
       "    </tr>\n",
       "    <tr>\n",
       "      <th>8</th>\n",
       "      <td>tahun baru</td>\n",
       "      <td>tahan palu</td>\n",
       "      <td>3</td>\n",
       "      <td>0.826667</td>\n",
       "    </tr>\n",
       "  </tbody>\n",
       "</table>\n",
       "</div>"
      ],
      "text/plain": [
       "   Majemuk terdeteksi Majemuk Koreksi  Jumlah huruf typo   Jaccard\n",
       "17        rumah sakit     rumah sakit                  0  1.000000\n",
       "3         juru bicara     juru bicara                  0  1.000000\n",
       "10           itu kata        ibu kota                  2  0.800000\n",
       "15      menekan angka    menang angka                  3  0.902234\n",
       "14        akhir pekan     akhir kelak                  3  0.905051\n",
       "13            kata dr        mata air                  3  0.779762\n",
       "12           itu kata       tata kata                  3  0.694444\n",
       "11           itu kata       suku kata                  3  0.750000\n",
       "9            itu kata        ibu kaki                  3  0.775000\n",
       "0         juru bicara      jam bicara                  3  0.858182\n",
       "7          saat tahun      suku tahun                  3  0.777143\n",
       "6         juru bicara    putus bicara                  3  0.856061\n",
       "5         juru bicara      juru mitar                  3  0.905455\n",
       "4         juru bicara      juru cacar                  3  0.921414\n",
       "2         juru bicara      juru bayar                  3  0.921414\n",
       "1         juru bicara     juru bahasa                  3  0.890909\n",
       "16        rumah sakit     rumah makan                  3  0.890909\n",
       "8          tahun baru      tahan palu                  3  0.826667"
      ]
     },
     "execution_count": 11,
     "metadata": {},
     "output_type": "execute_result"
    }
   ],
   "source": [
    "dfzz = pd.DataFrame(data, columns=[\"Majemuk terdeteksi\", \"Majemuk Koreksi\", \"Jumlah huruf typo\", \"Jaccard\"])\n",
    "dfzz = dfzz.sort_values(by=['Jumlah huruf typo'], ascending=True)\n",
    "dfzz"
   ]
  },
  {
   "cell_type": "code",
   "execution_count": 12,
   "id": "e325b0c1",
   "metadata": {},
   "outputs": [
    {
     "data": {
      "text/html": [
       "<div>\n",
       "<style scoped>\n",
       "    .dataframe tbody tr th:only-of-type {\n",
       "        vertical-align: middle;\n",
       "    }\n",
       "\n",
       "    .dataframe tbody tr th {\n",
       "        vertical-align: top;\n",
       "    }\n",
       "\n",
       "    .dataframe thead th {\n",
       "        text-align: right;\n",
       "    }\n",
       "</style>\n",
       "<table border=\"1\" class=\"dataframe\">\n",
       "  <thead>\n",
       "    <tr style=\"text-align: right;\">\n",
       "      <th></th>\n",
       "      <th>Majemuk terdeteksi</th>\n",
       "      <th>Majemuk Koreksi</th>\n",
       "      <th>Jumlah huruf typo</th>\n",
       "      <th>Jaccard</th>\n",
       "    </tr>\n",
       "  </thead>\n",
       "  <tbody>\n",
       "    <tr>\n",
       "      <th>3</th>\n",
       "      <td>juru bicara</td>\n",
       "      <td>juru bicara</td>\n",
       "      <td>0</td>\n",
       "      <td>1.000000</td>\n",
       "    </tr>\n",
       "    <tr>\n",
       "      <th>17</th>\n",
       "      <td>rumah sakit</td>\n",
       "      <td>rumah sakit</td>\n",
       "      <td>0</td>\n",
       "      <td>1.000000</td>\n",
       "    </tr>\n",
       "    <tr>\n",
       "      <th>10</th>\n",
       "      <td>itu kata</td>\n",
       "      <td>ibu kota</td>\n",
       "      <td>2</td>\n",
       "      <td>0.750000</td>\n",
       "    </tr>\n",
       "    <tr>\n",
       "      <th>0</th>\n",
       "      <td>juru bicara</td>\n",
       "      <td>jam bicara</td>\n",
       "      <td>3</td>\n",
       "      <td>0.777778</td>\n",
       "    </tr>\n",
       "    <tr>\n",
       "      <th>16</th>\n",
       "      <td>rumah sakit</td>\n",
       "      <td>rumah makan</td>\n",
       "      <td>3</td>\n",
       "      <td>0.636364</td>\n",
       "    </tr>\n",
       "    <tr>\n",
       "      <th>15</th>\n",
       "      <td>menekan angka</td>\n",
       "      <td>menang angka</td>\n",
       "      <td>3</td>\n",
       "      <td>1.000000</td>\n",
       "    </tr>\n",
       "    <tr>\n",
       "      <th>14</th>\n",
       "      <td>akhir pekan</td>\n",
       "      <td>akhir kelak</td>\n",
       "      <td>3</td>\n",
       "      <td>0.700000</td>\n",
       "    </tr>\n",
       "    <tr>\n",
       "      <th>13</th>\n",
       "      <td>kata dr</td>\n",
       "      <td>mata air</td>\n",
       "      <td>3</td>\n",
       "      <td>0.500000</td>\n",
       "    </tr>\n",
       "    <tr>\n",
       "      <th>12</th>\n",
       "      <td>itu kata</td>\n",
       "      <td>tata kata</td>\n",
       "      <td>3</td>\n",
       "      <td>0.666667</td>\n",
       "    </tr>\n",
       "    <tr>\n",
       "      <th>11</th>\n",
       "      <td>itu kata</td>\n",
       "      <td>suku kata</td>\n",
       "      <td>3</td>\n",
       "      <td>0.714286</td>\n",
       "    </tr>\n",
       "    <tr>\n",
       "      <th>9</th>\n",
       "      <td>itu kata</td>\n",
       "      <td>ibu kaki</td>\n",
       "      <td>3</td>\n",
       "      <td>0.714286</td>\n",
       "    </tr>\n",
       "    <tr>\n",
       "      <th>7</th>\n",
       "      <td>saat tahun</td>\n",
       "      <td>suku tahun</td>\n",
       "      <td>3</td>\n",
       "      <td>0.875000</td>\n",
       "    </tr>\n",
       "    <tr>\n",
       "      <th>6</th>\n",
       "      <td>juru bicara</td>\n",
       "      <td>putus bicara</td>\n",
       "      <td>3</td>\n",
       "      <td>0.636364</td>\n",
       "    </tr>\n",
       "    <tr>\n",
       "      <th>5</th>\n",
       "      <td>juru bicara</td>\n",
       "      <td>juru mitar</td>\n",
       "      <td>3</td>\n",
       "      <td>0.600000</td>\n",
       "    </tr>\n",
       "    <tr>\n",
       "      <th>4</th>\n",
       "      <td>juru bicara</td>\n",
       "      <td>juru cacar</td>\n",
       "      <td>3</td>\n",
       "      <td>0.750000</td>\n",
       "    </tr>\n",
       "    <tr>\n",
       "      <th>2</th>\n",
       "      <td>juru bicara</td>\n",
       "      <td>juru bayar</td>\n",
       "      <td>3</td>\n",
       "      <td>0.666667</td>\n",
       "    </tr>\n",
       "    <tr>\n",
       "      <th>1</th>\n",
       "      <td>juru bicara</td>\n",
       "      <td>juru bahasa</td>\n",
       "      <td>3</td>\n",
       "      <td>0.600000</td>\n",
       "    </tr>\n",
       "    <tr>\n",
       "      <th>8</th>\n",
       "      <td>tahun baru</td>\n",
       "      <td>tahan palu</td>\n",
       "      <td>3</td>\n",
       "      <td>0.600000</td>\n",
       "    </tr>\n",
       "    <tr>\n",
       "      <th>18</th>\n",
       "      <td>sakit secara</td>\n",
       "      <td>sakit kepala</td>\n",
       "      <td>3</td>\n",
       "      <td>0.636364</td>\n",
       "    </tr>\n",
       "  </tbody>\n",
       "</table>\n",
       "</div>"
      ],
      "text/plain": [
       "   Majemuk terdeteksi Majemuk Koreksi  Jumlah huruf typo   Jaccard\n",
       "3         juru bicara     juru bicara                  0  1.000000\n",
       "17        rumah sakit     rumah sakit                  0  1.000000\n",
       "10           itu kata        ibu kota                  2  0.750000\n",
       "0         juru bicara      jam bicara                  3  0.777778\n",
       "16        rumah sakit     rumah makan                  3  0.636364\n",
       "15      menekan angka    menang angka                  3  1.000000\n",
       "14        akhir pekan     akhir kelak                  3  0.700000\n",
       "13            kata dr        mata air                  3  0.500000\n",
       "12           itu kata       tata kata                  3  0.666667\n",
       "11           itu kata       suku kata                  3  0.714286\n",
       "9            itu kata        ibu kaki                  3  0.714286\n",
       "7          saat tahun      suku tahun                  3  0.875000\n",
       "6         juru bicara    putus bicara                  3  0.636364\n",
       "5         juru bicara      juru mitar                  3  0.600000\n",
       "4         juru bicara      juru cacar                  3  0.750000\n",
       "2         juru bicara      juru bayar                  3  0.666667\n",
       "1         juru bicara     juru bahasa                  3  0.600000\n",
       "8          tahun baru      tahan palu                  3  0.600000\n",
       "18       sakit secara    sakit kepala                  3  0.636364"
      ]
     },
     "execution_count": 12,
     "metadata": {},
     "output_type": "execute_result"
    }
   ],
   "source": [
    "dfz = pd.DataFrame(data, columns=[\"Majemuk terdeteksi\", \"Majemuk Koreksi\", \"Jumlah huruf typo\", \"Jaccard\"])\n",
    "dfz = dfz.sort_values(by=['Jumlah huruf typo'], ascending=True)\n",
    "dfz"
   ]
  },
  {
   "cell_type": "code",
   "execution_count": 19,
   "id": "181ccbc0",
   "metadata": {},
   "outputs": [
    {
     "data": {
      "text/html": [
       "<div>\n",
       "<style scoped>\n",
       "    .dataframe tbody tr th:only-of-type {\n",
       "        vertical-align: middle;\n",
       "    }\n",
       "\n",
       "    .dataframe tbody tr th {\n",
       "        vertical-align: top;\n",
       "    }\n",
       "\n",
       "    .dataframe thead th {\n",
       "        text-align: right;\n",
       "    }\n",
       "</style>\n",
       "<table border=\"1\" class=\"dataframe\">\n",
       "  <thead>\n",
       "    <tr style=\"text-align: right;\">\n",
       "      <th></th>\n",
       "      <th>Majemuk terdeteksi</th>\n",
       "      <th>Majemuk Koreksi</th>\n",
       "      <th>Jumlah huruf typo</th>\n",
       "      <th>Jaccard</th>\n",
       "    </tr>\n",
       "  </thead>\n",
       "  <tbody>\n",
       "    <tr>\n",
       "      <th>17</th>\n",
       "      <td>rumah sakit</td>\n",
       "      <td>rumah sakit</td>\n",
       "      <td>0</td>\n",
       "      <td>1.000000</td>\n",
       "    </tr>\n",
       "    <tr>\n",
       "      <th>3</th>\n",
       "      <td>juru bicara</td>\n",
       "      <td>juru bicara</td>\n",
       "      <td>0</td>\n",
       "      <td>1.000000</td>\n",
       "    </tr>\n",
       "    <tr>\n",
       "      <th>15</th>\n",
       "      <td>menekan angka</td>\n",
       "      <td>menang angka</td>\n",
       "      <td>3</td>\n",
       "      <td>0.902234</td>\n",
       "    </tr>\n",
       "    <tr>\n",
       "      <th>14</th>\n",
       "      <td>akhir pekan</td>\n",
       "      <td>akhir kelak</td>\n",
       "      <td>3</td>\n",
       "      <td>0.905051</td>\n",
       "    </tr>\n",
       "    <tr>\n",
       "      <th>0</th>\n",
       "      <td>juru bicara</td>\n",
       "      <td>jam bicara</td>\n",
       "      <td>3</td>\n",
       "      <td>0.858182</td>\n",
       "    </tr>\n",
       "    <tr>\n",
       "      <th>6</th>\n",
       "      <td>juru bicara</td>\n",
       "      <td>putus bicara</td>\n",
       "      <td>3</td>\n",
       "      <td>0.856061</td>\n",
       "    </tr>\n",
       "    <tr>\n",
       "      <th>5</th>\n",
       "      <td>juru bicara</td>\n",
       "      <td>juru mitar</td>\n",
       "      <td>3</td>\n",
       "      <td>0.905455</td>\n",
       "    </tr>\n",
       "    <tr>\n",
       "      <th>4</th>\n",
       "      <td>juru bicara</td>\n",
       "      <td>juru cacar</td>\n",
       "      <td>3</td>\n",
       "      <td>0.921414</td>\n",
       "    </tr>\n",
       "    <tr>\n",
       "      <th>2</th>\n",
       "      <td>juru bicara</td>\n",
       "      <td>juru bayar</td>\n",
       "      <td>3</td>\n",
       "      <td>0.921414</td>\n",
       "    </tr>\n",
       "    <tr>\n",
       "      <th>1</th>\n",
       "      <td>juru bicara</td>\n",
       "      <td>juru bahasa</td>\n",
       "      <td>3</td>\n",
       "      <td>0.890909</td>\n",
       "    </tr>\n",
       "    <tr>\n",
       "      <th>16</th>\n",
       "      <td>rumah sakit</td>\n",
       "      <td>rumah makan</td>\n",
       "      <td>3</td>\n",
       "      <td>0.890909</td>\n",
       "    </tr>\n",
       "  </tbody>\n",
       "</table>\n",
       "</div>"
      ],
      "text/plain": [
       "   Majemuk terdeteksi Majemuk Koreksi  Jumlah huruf typo   Jaccard\n",
       "17        rumah sakit     rumah sakit                  0  1.000000\n",
       "3         juru bicara     juru bicara                  0  1.000000\n",
       "15      menekan angka    menang angka                  3  0.902234\n",
       "14        akhir pekan     akhir kelak                  3  0.905051\n",
       "0         juru bicara      jam bicara                  3  0.858182\n",
       "6         juru bicara    putus bicara                  3  0.856061\n",
       "5         juru bicara      juru mitar                  3  0.905455\n",
       "4         juru bicara      juru cacar                  3  0.921414\n",
       "2         juru bicara      juru bayar                  3  0.921414\n",
       "1         juru bicara     juru bahasa                  3  0.890909\n",
       "16        rumah sakit     rumah makan                  3  0.890909"
      ]
     },
     "execution_count": 19,
     "metadata": {},
     "output_type": "execute_result"
    }
   ],
   "source": [
    "dff = dfzz[dfzz['Jaccard'].apply(lambda x: x >= 0.85)]\n",
    "dff"
   ]
  },
  {
   "cell_type": "code",
   "execution_count": 67,
   "id": "ced94f0b",
   "metadata": {},
   "outputs": [
    {
     "data": {
      "text/html": [
       "<div>\n",
       "<style scoped>\n",
       "    .dataframe tbody tr th:only-of-type {\n",
       "        vertical-align: middle;\n",
       "    }\n",
       "\n",
       "    .dataframe tbody tr th {\n",
       "        vertical-align: top;\n",
       "    }\n",
       "\n",
       "    .dataframe thead th {\n",
       "        text-align: right;\n",
       "    }\n",
       "</style>\n",
       "<table border=\"1\" class=\"dataframe\">\n",
       "  <thead>\n",
       "    <tr style=\"text-align: right;\">\n",
       "      <th></th>\n",
       "      <th>Majemuk terdeteksi</th>\n",
       "      <th>Majemuk Koreksi</th>\n",
       "      <th>Jumlah huruf typo</th>\n",
       "      <th>Jaccard</th>\n",
       "    </tr>\n",
       "  </thead>\n",
       "  <tbody>\n",
       "    <tr>\n",
       "      <th>3</th>\n",
       "      <td>juru bicara</td>\n",
       "      <td>juru bicara</td>\n",
       "      <td>0</td>\n",
       "      <td>1.000000</td>\n",
       "    </tr>\n",
       "    <tr>\n",
       "      <th>17</th>\n",
       "      <td>rumah sakit</td>\n",
       "      <td>rumah sakit</td>\n",
       "      <td>0</td>\n",
       "      <td>1.000000</td>\n",
       "    </tr>\n",
       "    <tr>\n",
       "      <th>10</th>\n",
       "      <td>itu kata</td>\n",
       "      <td>ibu kota</td>\n",
       "      <td>2</td>\n",
       "      <td>0.272727</td>\n",
       "    </tr>\n",
       "    <tr>\n",
       "      <th>0</th>\n",
       "      <td>juru bicara</td>\n",
       "      <td>jam bicara</td>\n",
       "      <td>3</td>\n",
       "      <td>0.461538</td>\n",
       "    </tr>\n",
       "    <tr>\n",
       "      <th>16</th>\n",
       "      <td>rumah sakit</td>\n",
       "      <td>rumah makan</td>\n",
       "      <td>3</td>\n",
       "      <td>0.461538</td>\n",
       "    </tr>\n",
       "    <tr>\n",
       "      <th>15</th>\n",
       "      <td>menekan angka</td>\n",
       "      <td>menang angka</td>\n",
       "      <td>3</td>\n",
       "      <td>0.583333</td>\n",
       "    </tr>\n",
       "    <tr>\n",
       "      <th>14</th>\n",
       "      <td>akhir pekan</td>\n",
       "      <td>akhir kelak</td>\n",
       "      <td>3</td>\n",
       "      <td>0.357143</td>\n",
       "    </tr>\n",
       "    <tr>\n",
       "      <th>13</th>\n",
       "      <td>kata dr</td>\n",
       "      <td>mata air</td>\n",
       "      <td>3</td>\n",
       "      <td>0.300000</td>\n",
       "    </tr>\n",
       "    <tr>\n",
       "      <th>12</th>\n",
       "      <td>itu kata</td>\n",
       "      <td>tata kata</td>\n",
       "      <td>3</td>\n",
       "      <td>0.500000</td>\n",
       "    </tr>\n",
       "    <tr>\n",
       "      <th>11</th>\n",
       "      <td>itu kata</td>\n",
       "      <td>suku kata</td>\n",
       "      <td>3</td>\n",
       "      <td>0.500000</td>\n",
       "    </tr>\n",
       "    <tr>\n",
       "      <th>9</th>\n",
       "      <td>itu kata</td>\n",
       "      <td>ibu kaki</td>\n",
       "      <td>3</td>\n",
       "      <td>0.272727</td>\n",
       "    </tr>\n",
       "    <tr>\n",
       "      <th>7</th>\n",
       "      <td>saat tahun</td>\n",
       "      <td>suku tahun</td>\n",
       "      <td>3</td>\n",
       "      <td>0.384615</td>\n",
       "    </tr>\n",
       "    <tr>\n",
       "      <th>6</th>\n",
       "      <td>juru bicara</td>\n",
       "      <td>putus bicara</td>\n",
       "      <td>3</td>\n",
       "      <td>0.400000</td>\n",
       "    </tr>\n",
       "    <tr>\n",
       "      <th>5</th>\n",
       "      <td>juru bicara</td>\n",
       "      <td>juru mitar</td>\n",
       "      <td>3</td>\n",
       "      <td>0.357143</td>\n",
       "    </tr>\n",
       "    <tr>\n",
       "      <th>4</th>\n",
       "      <td>juru bicara</td>\n",
       "      <td>juru cacar</td>\n",
       "      <td>3</td>\n",
       "      <td>0.500000</td>\n",
       "    </tr>\n",
       "    <tr>\n",
       "      <th>2</th>\n",
       "      <td>juru bicara</td>\n",
       "      <td>juru bayar</td>\n",
       "      <td>3</td>\n",
       "      <td>0.461538</td>\n",
       "    </tr>\n",
       "    <tr>\n",
       "      <th>1</th>\n",
       "      <td>juru bicara</td>\n",
       "      <td>juru bahasa</td>\n",
       "      <td>3</td>\n",
       "      <td>0.333333</td>\n",
       "    </tr>\n",
       "    <tr>\n",
       "      <th>8</th>\n",
       "      <td>tahun baru</td>\n",
       "      <td>tahan palu</td>\n",
       "      <td>3</td>\n",
       "      <td>0.200000</td>\n",
       "    </tr>\n",
       "    <tr>\n",
       "      <th>18</th>\n",
       "      <td>sakit secara</td>\n",
       "      <td>sakit kepala</td>\n",
       "      <td>3</td>\n",
       "      <td>0.294118</td>\n",
       "    </tr>\n",
       "  </tbody>\n",
       "</table>\n",
       "</div>"
      ],
      "text/plain": [
       "   Majemuk terdeteksi Majemuk Koreksi  Jumlah huruf typo   Jaccard\n",
       "3         juru bicara     juru bicara                  0  1.000000\n",
       "17        rumah sakit     rumah sakit                  0  1.000000\n",
       "10           itu kata        ibu kota                  2  0.272727\n",
       "0         juru bicara      jam bicara                  3  0.461538\n",
       "16        rumah sakit     rumah makan                  3  0.461538\n",
       "15      menekan angka    menang angka                  3  0.583333\n",
       "14        akhir pekan     akhir kelak                  3  0.357143\n",
       "13            kata dr        mata air                  3  0.300000\n",
       "12           itu kata       tata kata                  3  0.500000\n",
       "11           itu kata       suku kata                  3  0.500000\n",
       "9            itu kata        ibu kaki                  3  0.272727\n",
       "7          saat tahun      suku tahun                  3  0.384615\n",
       "6         juru bicara    putus bicara                  3  0.400000\n",
       "5         juru bicara      juru mitar                  3  0.357143\n",
       "4         juru bicara      juru cacar                  3  0.500000\n",
       "2         juru bicara      juru bayar                  3  0.461538\n",
       "1         juru bicara     juru bahasa                  3  0.333333\n",
       "8          tahun baru      tahan palu                  3  0.200000\n",
       "18       sakit secara    sakit kepala                  3  0.294118"
      ]
     },
     "execution_count": 67,
     "metadata": {},
     "output_type": "execute_result"
    }
   ],
   "source": [
    "df = pd.DataFrame(data, columns=[\"Majemuk terdeteksi\", \"Majemuk Koreksi\", \"Jumlah huruf typo\", \"Jaccard\"])\n",
    "df = df.sort_values(by=['Jumlah huruf typo'], ascending=True)\n",
    "df"
   ]
  },
  {
   "cell_type": "code",
   "execution_count": 68,
   "id": "96343da2",
   "metadata": {},
   "outputs": [
    {
     "data": {
      "text/html": [
       "<div>\n",
       "<style scoped>\n",
       "    .dataframe tbody tr th:only-of-type {\n",
       "        vertical-align: middle;\n",
       "    }\n",
       "\n",
       "    .dataframe tbody tr th {\n",
       "        vertical-align: top;\n",
       "    }\n",
       "\n",
       "    .dataframe thead th {\n",
       "        text-align: right;\n",
       "    }\n",
       "</style>\n",
       "<table border=\"1\" class=\"dataframe\">\n",
       "  <thead>\n",
       "    <tr style=\"text-align: right;\">\n",
       "      <th></th>\n",
       "      <th>Majemuk terdeteksi</th>\n",
       "      <th>Majemuk Koreksi</th>\n",
       "      <th>Jumlah huruf typo</th>\n",
       "      <th>Jaccard</th>\n",
       "    </tr>\n",
       "  </thead>\n",
       "  <tbody>\n",
       "    <tr>\n",
       "      <th>3</th>\n",
       "      <td>juru bicara</td>\n",
       "      <td>juru bicara</td>\n",
       "      <td>0</td>\n",
       "      <td>1.000000</td>\n",
       "    </tr>\n",
       "    <tr>\n",
       "      <th>17</th>\n",
       "      <td>rumah sakit</td>\n",
       "      <td>rumah sakit</td>\n",
       "      <td>0</td>\n",
       "      <td>1.000000</td>\n",
       "    </tr>\n",
       "    <tr>\n",
       "      <th>15</th>\n",
       "      <td>menekan angka</td>\n",
       "      <td>menang angka</td>\n",
       "      <td>3</td>\n",
       "      <td>0.583333</td>\n",
       "    </tr>\n",
       "    <tr>\n",
       "      <th>12</th>\n",
       "      <td>itu kata</td>\n",
       "      <td>tata kata</td>\n",
       "      <td>3</td>\n",
       "      <td>0.500000</td>\n",
       "    </tr>\n",
       "    <tr>\n",
       "      <th>11</th>\n",
       "      <td>itu kata</td>\n",
       "      <td>suku kata</td>\n",
       "      <td>3</td>\n",
       "      <td>0.500000</td>\n",
       "    </tr>\n",
       "    <tr>\n",
       "      <th>4</th>\n",
       "      <td>juru bicara</td>\n",
       "      <td>juru cacar</td>\n",
       "      <td>3</td>\n",
       "      <td>0.500000</td>\n",
       "    </tr>\n",
       "  </tbody>\n",
       "</table>\n",
       "</div>"
      ],
      "text/plain": [
       "   Majemuk terdeteksi Majemuk Koreksi  Jumlah huruf typo   Jaccard\n",
       "3         juru bicara     juru bicara                  0  1.000000\n",
       "17        rumah sakit     rumah sakit                  0  1.000000\n",
       "15      menekan angka    menang angka                  3  0.583333\n",
       "12           itu kata       tata kata                  3  0.500000\n",
       "11           itu kata       suku kata                  3  0.500000\n",
       "4         juru bicara      juru cacar                  3  0.500000"
      ]
     },
     "execution_count": 68,
     "metadata": {},
     "output_type": "execute_result"
    }
   ],
   "source": [
    "dff = df[df['Jaccard'].apply(lambda x: x >= 0.5)]\n",
    "dff"
   ]
  },
  {
   "cell_type": "code",
   "execution_count": 155,
   "id": "16769168",
   "metadata": {},
   "outputs": [],
   "source": [
    "df0 = dfzz[dfzz['Jumlah huruf typo'].apply(lambda x: x == 0)]\n",
    "df1 = dfzz[dfzz['Jumlah huruf typo'].apply(lambda x: x == 1)]\n",
    "df2 = dfzz[dfzz['Jumlah huruf typo'].apply(lambda x: x == 2)]\n",
    "df3 = dfzz[dfzz['Jumlah huruf typo'].apply(lambda x: x == 3)]"
   ]
  },
  {
   "cell_type": "code",
   "execution_count": 156,
   "id": "ff657a14",
   "metadata": {},
   "outputs": [],
   "source": [
    "df1 = df1[~df1['Majemuk terdeteksi'].isin(df0['Majemuk terdeteksi'])]\n",
    "\n",
    "df2 = df2[~df2['Majemuk terdeteksi'].isin(df0['Majemuk terdeteksi'])]\n",
    "df2 = df2[~df2['Majemuk terdeteksi'].isin(df1['Majemuk terdeteksi'])]\n",
    "\n",
    "df3 = df3[~df3['Majemuk terdeteksi'].isin(df0['Majemuk terdeteksi'])]\n",
    "df3 = df3[~df3['Majemuk terdeteksi'].isin(df1['Majemuk terdeteksi'])]\n",
    "df3 = df3[~df3['Majemuk terdeteksi'].isin(df2['Majemuk terdeteksi'])]"
   ]
  },
  {
   "cell_type": "code",
   "execution_count": 158,
   "id": "59993795",
   "metadata": {},
   "outputs": [],
   "source": [
    "df2 = df2[df2['Jaccard'].apply(lambda x: x >= 0.83)]\n",
    "df3 = df3[df3['Jaccard'].apply(lambda x: x >= 0.79)]"
   ]
  },
  {
   "cell_type": "code",
   "execution_count": 160,
   "id": "55009c69",
   "metadata": {},
   "outputs": [
    {
     "data": {
      "text/html": [
       "<div>\n",
       "<style scoped>\n",
       "    .dataframe tbody tr th:only-of-type {\n",
       "        vertical-align: middle;\n",
       "    }\n",
       "\n",
       "    .dataframe tbody tr th {\n",
       "        vertical-align: top;\n",
       "    }\n",
       "\n",
       "    .dataframe thead th {\n",
       "        text-align: right;\n",
       "    }\n",
       "</style>\n",
       "<table border=\"1\" class=\"dataframe\">\n",
       "  <thead>\n",
       "    <tr style=\"text-align: right;\">\n",
       "      <th></th>\n",
       "      <th>Majemuk terdeteksi</th>\n",
       "      <th>Majemuk Koreksi</th>\n",
       "      <th>Jumlah huruf typo</th>\n",
       "      <th>Jaccard</th>\n",
       "    </tr>\n",
       "  </thead>\n",
       "  <tbody>\n",
       "    <tr>\n",
       "      <th>15</th>\n",
       "      <td>menekan angka</td>\n",
       "      <td>menang angka</td>\n",
       "      <td>3</td>\n",
       "      <td>0.902234</td>\n",
       "    </tr>\n",
       "    <tr>\n",
       "      <th>14</th>\n",
       "      <td>akhir pekan</td>\n",
       "      <td>akhir kelak</td>\n",
       "      <td>3</td>\n",
       "      <td>0.905051</td>\n",
       "    </tr>\n",
       "    <tr>\n",
       "      <th>8</th>\n",
       "      <td>tahun baru</td>\n",
       "      <td>tahan palu</td>\n",
       "      <td>3</td>\n",
       "      <td>0.826667</td>\n",
       "    </tr>\n",
       "  </tbody>\n",
       "</table>\n",
       "</div>"
      ],
      "text/plain": [
       "   Majemuk terdeteksi Majemuk Koreksi  Jumlah huruf typo   Jaccard\n",
       "15      menekan angka    menang angka                  3  0.902234\n",
       "14        akhir pekan     akhir kelak                  3  0.905051\n",
       "8          tahun baru      tahan palu                  3  0.826667"
      ]
     },
     "execution_count": 160,
     "metadata": {},
     "output_type": "execute_result"
    }
   ],
   "source": [
    "df3"
   ]
  },
  {
   "cell_type": "code",
   "execution_count": 115,
   "id": "76e3bf78",
   "metadata": {},
   "outputs": [],
   "source": [
    "coba1 = df3['Majemuk terdeteksi'].values.tolist()\n",
    "coba2 = df3['Majemuk Koreksi'].values.tolist()"
   ]
  },
  {
   "cell_type": "code",
   "execution_count": 140,
   "id": "6d8c4545",
   "metadata": {},
   "outputs": [
    {
     "name": "stdout",
     "output_type": "stream",
     "text": [
      "3\n",
      "0.42857142857142855\n",
      "0.7272727272727273\n",
      "0.42857142857142855\n",
      "0.7949999999999999\n"
     ]
    }
   ],
   "source": [
    "word1 = \"slah dmgar\"\n",
    "word2 = \"salah dengar\"\n",
    "jac1 = special_ngrams(word1,2)\n",
    "jac2 = special_ngrams(word2,2)\n",
    "jac11 = list(special_ngrams(word1,2))\n",
    "jac22 = list(special_ngrams(word2,2))\n",
    "print(damerau_levenshtein(word1, word2))\n",
    "print(jaccardsimilarity(jac1, jac2))\n",
    "print(jaccardsimilarity(word1,word2))\n",
    "print(jaccardsimilarity(jac11, jac22))\n",
    "print(jellyfish.jaro_winkler(word1, word2))"
   ]
  },
  {
   "cell_type": "code",
   "execution_count": 119,
   "id": "46d1d2ac",
   "metadata": {},
   "outputs": [],
   "source": [
    "i=0\n",
    "e=[]\n",
    "k=[]\n",
    "ngram_teks = []\n",
    "ngram_majemuk = []\n",
    "for d in coba1:\n",
    "    c = list(special_ngrams(coba1[i],2))\n",
    "    i=i+1\n",
    "    e.append(c)\n",
    "\n",
    "i=0\n",
    "    \n",
    "for d in coba2:\n",
    "    c = list(special_ngrams(coba2[i],2))\n",
    "    i=i+1\n",
    "    k.append(c)\n",
    "    \n",
    "    \n",
    "# Remove duplicates from each sub-array\n",
    "result = [list(set(sub_array)) for sub_array in e]\n",
    "result2 = [list(set(sub_array2)) for sub_array2 in k]\n",
    "\n",
    "# Print the result\n",
    "for sub_array in result:\n",
    "    ngram_teks.append(sub_array)\n",
    "\n",
    "# Print the result\n",
    "for sub_array2 in result2:\n",
    "    ngram_majemuk.append(sub_array2)"
   ]
  },
  {
   "cell_type": "code",
   "execution_count": 120,
   "id": "f3d043dc",
   "metadata": {},
   "outputs": [
    {
     "data": {
      "text/plain": [
       "[['an', 'gk', ' a', 'en', 'na', 'g ', 'ka', 'me', 'ng'],\n",
       " ['ta', 'a ', 'at', ' k', 'ka'],\n",
       " ['ta', 'u ', 'ku', 'uk', 'at', 'su', ' k', 'ka']]"
      ]
     },
     "execution_count": 120,
     "metadata": {},
     "output_type": "execute_result"
    }
   ],
   "source": [
    "ngram_majemuk"
   ]
  },
  {
   "cell_type": "code",
   "execution_count": 127,
   "id": "f458c642",
   "metadata": {},
   "outputs": [
    {
     "name": "stdout",
     "output_type": "stream",
     "text": [
      "menekan angka menang angka 0.5833333333333334\n",
      "itu kata tata kata 0.5\n",
      "itu kata suku kata 0.5\n"
     ]
    }
   ],
   "source": [
    "for b in range(3):\n",
    "    print(coba1[b],coba2[b],jaccard(ngram_teks[b], ngram_majemuk[b]))"
   ]
  },
  {
   "cell_type": "code",
   "execution_count": 72,
   "id": "61585da5",
   "metadata": {},
   "outputs": [],
   "source": [
    "majemukterdeteksi = df3['Majemuk terdeteksi'].values.tolist()\n",
    "majemukkoreksi = df3['Majemuk Koreksi'].values.tolist()"
   ]
  },
  {
   "cell_type": "code",
   "execution_count": 73,
   "id": "7a132ddb",
   "metadata": {},
   "outputs": [
    {
     "data": {
      "text/plain": [
       "['menekan angka', 'itu kata', 'itu kata']"
      ]
     },
     "execution_count": 73,
     "metadata": {},
     "output_type": "execute_result"
    }
   ],
   "source": [
    "majemukterdeteksi"
   ]
  },
  {
   "cell_type": "code",
   "execution_count": 36,
   "id": "cf7c043c",
   "metadata": {},
   "outputs": [
    {
     "data": {
      "text/plain": [
       "[['kepala', 'negara'],\n",
       " ['kepala', 'negara'],\n",
       " ['orang', 'akan'],\n",
       " ['tinggi', 'di'],\n",
       " ['tinggi', 'di'],\n",
       " ['kepala', 'negara'],\n",
       " ['masalah', 'dengan'],\n",
       " ['kepala', 'negara'],\n",
       " ['maka', 'kepala'],\n",
       " ['menekan', 'angka'],\n",
       " ['nilai', 'tambah'],\n",
       " ['orang', 'akan'],\n",
       " ['orang', 'akan']]"
      ]
     },
     "execution_count": 36,
     "metadata": {},
     "output_type": "execute_result"
    }
   ],
   "source": [
    "x = []\n",
    "j = 0\n",
    "for i in majemukterdeteksi:\n",
    "    y = majemukterdeteksi[j].split()\n",
    "    j=j+1\n",
    "    x.append(y)\n",
    "x"
   ]
  },
  {
   "cell_type": "code",
   "execution_count": 63,
   "id": "37e5dfba",
   "metadata": {},
   "outputs": [],
   "source": [
    "import pickle\n",
    "trained_model = pickle.load(open('trained_model.pkl', 'rb'))\n",
    "\n",
    "model = trained_model['model']\n",
    "\n",
    "vectorizer = trained_model['vectorizer']"
   ]
  },
  {
   "cell_type": "code",
   "execution_count": 74,
   "id": "ef968d50",
   "metadata": {},
   "outputs": [],
   "source": [
    "data_test = majemukterdeteksi\n",
    "\n",
    "data_test = vectorizer.transform(data_test)"
   ]
  },
  {
   "cell_type": "code",
   "execution_count": 75,
   "id": "fd2a593a",
   "metadata": {},
   "outputs": [],
   "source": [
    "pred = model.predict(data_test)"
   ]
  },
  {
   "cell_type": "code",
   "execution_count": 85,
   "id": "6ec2493e",
   "metadata": {},
   "outputs": [
    {
     "name": "stdout",
     "output_type": "stream",
     "text": [
      "['menang angka']\n",
      "['ibu kota']\n",
      "['ibu kota']\n"
     ]
    }
   ],
   "source": [
    "# Load the data\n",
    "import difflib\n",
    "df_correct = pd.read_csv('listmajemuk.csv')\n",
    "df_correction = df_correct['kata majemuk'].values\n",
    "\n",
    "typo_word = []\n",
    "words_correction = []\n",
    "salah_tik = []\n",
    "counter = 1\n",
    "\n",
    "for index in range(len(majemukterdeteksi)):\n",
    "          \n",
    "    if pred[index] == 'incorrect':\n",
    "        # typo_word.append(f\"{counter}. Kata {tokens[index].upper()} adalah typo.\")\n",
    "        typo_word.append([counter, majemukterdeteksi[index]])\n",
    "        counter += 1\n",
    "\n",
    "        salah_tik.append(majemukterdeteksi[index])\n",
    "                \n",
    "        correction = majemukterdeteksi[index]\n",
    "        \n",
    "        matches = difflib.get_close_matches(correction, df_correction, n=15, cutoff=0.75)\n",
    "        \n",
    "        words=[]\n",
    "        \n",
    "        for idx in range(len(matches)):\n",
    "            if matches[idx][0] == majemukterdeteksi[index][0]:\n",
    "                            if len(matches[idx]) == len(majemukterdeteksi[index]) or len(matches[idx]) == len(majemukterdeteksi[index]) - 1 or len(matches[idx]) == len(majemukterdeteksi[index]) + 1:\n",
    "                                words.append(matches[idx])\n",
    "                            print(words)"
   ]
  },
  {
   "cell_type": "code",
   "execution_count": 77,
   "id": "8bc5dd36",
   "metadata": {},
   "outputs": [
    {
     "data": {
      "text/plain": [
       "[[1, 'menekan angka'], [2, 'itu kata'], [3, 'itu kata']]"
      ]
     },
     "execution_count": 77,
     "metadata": {},
     "output_type": "execute_result"
    }
   ],
   "source": [
    "typo_word"
   ]
  },
  {
   "cell_type": "code",
   "execution_count": 78,
   "id": "f0095e16",
   "metadata": {},
   "outputs": [
    {
     "data": {
      "text/plain": [
       "['menekan angka', 'itu kata', 'itu kata']"
      ]
     },
     "execution_count": 78,
     "metadata": {},
     "output_type": "execute_result"
    }
   ],
   "source": [
    "salah_tik"
   ]
  },
  {
   "cell_type": "code",
   "execution_count": 84,
   "id": "993eb27c",
   "metadata": {},
   "outputs": [
    {
     "data": {
      "text/plain": [
       "['ibu kota']"
      ]
     },
     "execution_count": 84,
     "metadata": {},
     "output_type": "execute_result"
    }
   ],
   "source": [
    "words"
   ]
  },
  {
   "cell_type": "code",
   "execution_count": 16,
   "id": "8df93c9f",
   "metadata": {},
   "outputs": [
    {
     "data": {
      "text/html": [
       "<div>\n",
       "<style scoped>\n",
       "    .dataframe tbody tr th:only-of-type {\n",
       "        vertical-align: middle;\n",
       "    }\n",
       "\n",
       "    .dataframe tbody tr th {\n",
       "        vertical-align: top;\n",
       "    }\n",
       "\n",
       "    .dataframe thead th {\n",
       "        text-align: right;\n",
       "    }\n",
       "</style>\n",
       "<table border=\"1\" class=\"dataframe\">\n",
       "  <thead>\n",
       "    <tr style=\"text-align: right;\">\n",
       "      <th></th>\n",
       "      <th>A</th>\n",
       "      <th>B</th>\n",
       "    </tr>\n",
       "  </thead>\n",
       "  <tbody>\n",
       "    <tr>\n",
       "      <th>0</th>\n",
       "      <td>tes</td>\n",
       "      <td>tes</td>\n",
       "    </tr>\n",
       "    <tr>\n",
       "      <th>1</th>\n",
       "      <td>tus</td>\n",
       "      <td>tus</td>\n",
       "    </tr>\n",
       "    <tr>\n",
       "      <th>2</th>\n",
       "      <td>tas</td>\n",
       "      <td>tas</td>\n",
       "    </tr>\n",
       "    <tr>\n",
       "      <th>3</th>\n",
       "      <td>tes</td>\n",
       "      <td>tes</td>\n",
       "    </tr>\n",
       "  </tbody>\n",
       "</table>\n",
       "</div>"
      ],
      "text/plain": [
       "     A    B\n",
       "0  tes  tes\n",
       "1  tus  tus\n",
       "2  tas  tas\n",
       "3  tes  tes"
      ]
     },
     "execution_count": 16,
     "metadata": {},
     "output_type": "execute_result"
    }
   ],
   "source": [
    "import pandas as pd\n",
    "\n",
    "d1 = {'A': ['tes', 'tus', 'tas', 'tes'], 'B': ['tes', 'tus', 'tas', 'tes']}\n",
    "\n",
    "source_df = pd.DataFrame(d1)\n",
    "source_df"
   ]
  },
  {
   "cell_type": "code",
   "execution_count": 17,
   "id": "17bc64d3",
   "metadata": {},
   "outputs": [
    {
     "data": {
      "text/html": [
       "<div>\n",
       "<style scoped>\n",
       "    .dataframe tbody tr th:only-of-type {\n",
       "        vertical-align: middle;\n",
       "    }\n",
       "\n",
       "    .dataframe tbody tr th {\n",
       "        vertical-align: top;\n",
       "    }\n",
       "\n",
       "    .dataframe thead th {\n",
       "        text-align: right;\n",
       "    }\n",
       "</style>\n",
       "<table border=\"1\" class=\"dataframe\">\n",
       "  <thead>\n",
       "    <tr style=\"text-align: right;\">\n",
       "      <th></th>\n",
       "      <th>A</th>\n",
       "      <th>B</th>\n",
       "    </tr>\n",
       "  </thead>\n",
       "  <tbody>\n",
       "    <tr>\n",
       "      <th>0</th>\n",
       "      <td>tas</td>\n",
       "      <td>tas</td>\n",
       "    </tr>\n",
       "    <tr>\n",
       "      <th>1</th>\n",
       "      <td>tes</td>\n",
       "      <td>tes, tes</td>\n",
       "    </tr>\n",
       "    <tr>\n",
       "      <th>2</th>\n",
       "      <td>tus</td>\n",
       "      <td>tus</td>\n",
       "    </tr>\n",
       "  </tbody>\n",
       "</table>\n",
       "</div>"
      ],
      "text/plain": [
       "     A         B\n",
       "0  tas       tas\n",
       "1  tes  tes, tes\n",
       "2  tus       tus"
      ]
     },
     "execution_count": 17,
     "metadata": {},
     "output_type": "execute_result"
    }
   ],
   "source": [
    "a = source_df.groupby('A', as_index=False)['B'].apply(', '.join)\n",
    "a\n"
   ]
  },
  {
   "cell_type": "code",
   "execution_count": 47,
   "id": "a9e4e068",
   "metadata": {},
   "outputs": [
    {
     "data": {
      "text/html": [
       "<div>\n",
       "<style scoped>\n",
       "    .dataframe tbody tr th:only-of-type {\n",
       "        vertical-align: middle;\n",
       "    }\n",
       "\n",
       "    .dataframe tbody tr th {\n",
       "        vertical-align: top;\n",
       "    }\n",
       "\n",
       "    .dataframe thead th {\n",
       "        text-align: right;\n",
       "    }\n",
       "</style>\n",
       "<table border=\"1\" class=\"dataframe\">\n",
       "  <thead>\n",
       "    <tr style=\"text-align: right;\">\n",
       "      <th></th>\n",
       "      <th>id</th>\n",
       "      <th>values</th>\n",
       "    </tr>\n",
       "  </thead>\n",
       "  <tbody>\n",
       "    <tr>\n",
       "      <th>0</th>\n",
       "      <td>1</td>\n",
       "      <td>[2, 3, 4]</td>\n",
       "    </tr>\n",
       "    <tr>\n",
       "      <th>1</th>\n",
       "      <td>2</td>\n",
       "      <td>[5, 6, 7]</td>\n",
       "    </tr>\n",
       "    <tr>\n",
       "      <th>2</th>\n",
       "      <td>3</td>\n",
       "      <td>[8, 9, 10]</td>\n",
       "    </tr>\n",
       "  </tbody>\n",
       "</table>\n",
       "</div>"
      ],
      "text/plain": [
       "   id      values\n",
       "0   1   [2, 3, 4]\n",
       "1   2   [5, 6, 7]\n",
       "2   3  [8, 9, 10]"
      ]
     },
     "execution_count": 47,
     "metadata": {},
     "output_type": "execute_result"
    }
   ],
   "source": [
    "data2 = [[1, [2, 3, 4]],\n",
    "        [2, [5, 6, 7]],\n",
    "        [3, [8, 9, 10]]]\n",
    "\n",
    "df2 = pd.DataFrame(data2, columns=['id', 'values'])\n",
    "df2"
   ]
  },
  {
   "cell_type": "code",
   "execution_count": 51,
   "id": "97c333d4",
   "metadata": {},
   "outputs": [
    {
     "data": {
      "text/html": [
       "<div>\n",
       "<style scoped>\n",
       "    .dataframe tbody tr th:only-of-type {\n",
       "        vertical-align: middle;\n",
       "    }\n",
       "\n",
       "    .dataframe tbody tr th {\n",
       "        vertical-align: top;\n",
       "    }\n",
       "\n",
       "    .dataframe thead th {\n",
       "        text-align: right;\n",
       "    }\n",
       "</style>\n",
       "<table border=\"1\" class=\"dataframe\">\n",
       "  <thead>\n",
       "    <tr style=\"text-align: right;\">\n",
       "      <th></th>\n",
       "      <th>id</th>\n",
       "      <th>values</th>\n",
       "      <th>sum</th>\n",
       "    </tr>\n",
       "  </thead>\n",
       "  <tbody>\n",
       "    <tr>\n",
       "      <th>0</th>\n",
       "      <td>1</td>\n",
       "      <td>[2, 3, 4]</td>\n",
       "      <td>9</td>\n",
       "    </tr>\n",
       "    <tr>\n",
       "      <th>1</th>\n",
       "      <td>2</td>\n",
       "      <td>[5, 6, 7]</td>\n",
       "      <td>18</td>\n",
       "    </tr>\n",
       "    <tr>\n",
       "      <th>2</th>\n",
       "      <td>3</td>\n",
       "      <td>[8, 9, 10]</td>\n",
       "      <td>27</td>\n",
       "    </tr>\n",
       "  </tbody>\n",
       "</table>\n",
       "</div>"
      ],
      "text/plain": [
       "   id      values  sum\n",
       "0   1   [2, 3, 4]    9\n",
       "1   2   [5, 6, 7]   18\n",
       "2   3  [8, 9, 10]   27"
      ]
     },
     "execution_count": 51,
     "metadata": {},
     "output_type": "execute_result"
    }
   ],
   "source": [
    "df2['sum'] = df2['values'].apply(sum)\n",
    "df2"
   ]
  },
  {
   "cell_type": "code",
   "execution_count": null,
   "id": "f52a8886",
   "metadata": {},
   "outputs": [],
   "source": [
    "df1 = df1[~df1['column_name'].isin(df2['column_name'])]"
   ]
  },
  {
   "cell_type": "code",
   "execution_count": 111,
   "id": "ca2476d3",
   "metadata": {},
   "outputs": [],
   "source": [
    "#TRIGRAMS FOR LIST KATA\n",
    "def generate_trigrams(word):\n",
    "    trigrams = []\n",
    "    for i in range(len(word) - 2):\n",
    "        trigram = word[i:i + 3]\n",
    "        trigrams.append(trigram)\n",
    "    return trigrams\n",
    "\n",
    "# Example list of words\n",
    "words = list_kata\n",
    "\n",
    "# Generate trigrams for each word in the list\n",
    "trigrams_list = []\n",
    "\n",
    "for word in words:\n",
    "    trigrams = generate_trigrams(word)\n",
    "    trigrams_list.append(trigrams)"
   ]
  },
  {
   "cell_type": "code",
   "execution_count": 42,
   "id": "97382857",
   "metadata": {},
   "outputs": [],
   "source": [
    "#TRIGRAMS FOR KATA MAJEMUK\n",
    "words = list_katamajemuk\n",
    "g = []\n",
    "i=0\n",
    "for x in words:\n",
    "    f = generate_trigrams(words[i])\n",
    "    i=i+1\n",
    "    g.append(f)"
   ]
  },
  {
   "cell_type": "code",
   "execution_count": 148,
   "id": "95c375e0",
   "metadata": {},
   "outputs": [],
   "source": [
    "#TRIGRAMS FOR KATA MAJEMUK TERDETEKSI\n",
    "words = res\n",
    "l = []\n",
    "i=0\n",
    "for x in words:\n",
    "    f = generate_trigrams(words[i])\n",
    "    i=i+1\n",
    "    l.append(f)"
   ]
  },
  {
   "cell_type": "code",
   "execution_count": 175,
   "id": "73c97470",
   "metadata": {},
   "outputs": [
    {
     "name": "stdout",
     "output_type": "stream",
     "text": [
      "juru bicara 1.0 ['jur', 'uru', 'ru ', 'u b', ' bi', 'bic', 'ica', 'car', 'ara'] ['jur', 'uru', 'ru ', 'u b', ' bi', 'bic', 'ica', 'car', 'ara'] juru bicara\n",
      "rumah sakit 1.0 ['rum', 'uma', 'mah', 'ah ', 'h s', ' sa', 'sak', 'aki', 'kit'] ['rum', 'uma', 'mah', 'ah ', 'h s', ' sa', 'sak', 'aki', 'kit'] rumah sakit\n",
      "['juru bicara', 'rumah sakit']\n",
      "['juru bicara', 'rumah sakit']\n"
     ]
    }
   ],
   "source": [
    "i=0\n",
    "j=0\n",
    "list_jac=[]\n",
    "katabenar=[]\n",
    "new_list=[]\n",
    "new_list2=[]\n",
    "kata_majemuk = []\n",
    "for p in res :\n",
    "    for t in list_katamajemuk:\n",
    "        a = jaccardsimilarity(l[i],g[j])\n",
    "        if (1 <= a >= 0.5):\n",
    "            print(res[i], a, l[i], g[j], list_katamajemuk[j])\n",
    "            katabenar.append(res[i])\n",
    "            kata_majemuk.append(list_katamajemuk[j])\n",
    "            for benar in katabenar:\n",
    "                if benar not in new_list:\n",
    "                    new_list.append(benar)\n",
    "            for benar in kata_majemuk:\n",
    "                if benar not in new_list2:\n",
    "                    new_list2.append(benar)\n",
    "        j=j+1\n",
    "    i=i+1\n",
    "    j=0\n",
    "print(new_list)\n",
    "print(new_list2)"
   ]
  },
  {
   "cell_type": "code",
   "execution_count": 150,
   "id": "03400251",
   "metadata": {},
   "outputs": [
    {
     "data": {
      "text/html": [
       "<div>\n",
       "<style scoped>\n",
       "    .dataframe tbody tr th:only-of-type {\n",
       "        vertical-align: middle;\n",
       "    }\n",
       "\n",
       "    .dataframe tbody tr th {\n",
       "        vertical-align: top;\n",
       "    }\n",
       "\n",
       "    .dataframe thead th {\n",
       "        text-align: right;\n",
       "    }\n",
       "</style>\n",
       "<table border=\"1\" class=\"dataframe\">\n",
       "  <thead>\n",
       "    <tr style=\"text-align: right;\">\n",
       "      <th></th>\n",
       "      <th>Kata Majemuk Terdeteksi</th>\n",
       "      <th>Kata Majemuk Koreksi</th>\n",
       "    </tr>\n",
       "  </thead>\n",
       "  <tbody>\n",
       "    <tr>\n",
       "      <th>0</th>\n",
       "      <td>juru bicara</td>\n",
       "      <td>juru bicara</td>\n",
       "    </tr>\n",
       "    <tr>\n",
       "      <th>1</th>\n",
       "      <td>rumah sakit</td>\n",
       "      <td>rumah sakit</td>\n",
       "    </tr>\n",
       "  </tbody>\n",
       "</table>\n",
       "</div>"
      ],
      "text/plain": [
       "  Kata Majemuk Terdeteksi Kata Majemuk Koreksi\n",
       "0             juru bicara          juru bicara\n",
       "1             rumah sakit          rumah sakit"
      ]
     },
     "execution_count": 150,
     "metadata": {},
     "output_type": "execute_result"
    }
   ],
   "source": [
    "df = pd.DataFrame({\n",
    "    'Kata Majemuk Terdeteksi' : new_list,\n",
    "    'Kata Majemuk Koreksi' : new_list2\n",
    "})\n",
    "df"
   ]
  },
  {
   "cell_type": "code",
   "execution_count": 10,
   "id": "7ea5de62",
   "metadata": {},
   "outputs": [],
   "source": [
    "# Calculate Levenshtein distances\n",
    "majemuk_terdeteksi0 = []\n",
    "majemuk_terdeteksi1 = []\n",
    "majemuk_terdeteksi2 = []\n",
    "majemuk_terdeteksi3 = []\n",
    "i=0\n",
    "j=0\n",
    "for a in list_kata:\n",
    "    for b in list_katamajemuk:\n",
    "        distance1 = damerau_levenshtein(list_kata[i], list_katamajemuk[j])\n",
    "        if (distance1==3):\n",
    "            majemuk_terdeteksi3.append(list_kata[i])\n",
    "        elif (distance1==2):\n",
    "            majemuk_terdeteksi2.append(list_kata[i])\n",
    "        elif (distance1==1):\n",
    "            majemuk_terdeteksi1.append(list_kata[i])\n",
    "        elif (distance1==0):\n",
    "            majemuk_terdeteksi0.append(list_kata[i])\n",
    "        j=j+1\n",
    "    i=i+1\n",
    "    j=0"
   ]
  },
  {
   "cell_type": "code",
   "execution_count": 11,
   "id": "4abf635b",
   "metadata": {},
   "outputs": [
    {
     "name": "stdout",
     "output_type": "stream",
     "text": [
      "['juru bicara', 'rumah sakit']\n",
      "======================\n",
      "[]\n",
      "======================\n",
      "['itu kata']\n",
      "======================\n",
      "['saat tahun', 'tahun baru', 'kata dr', 'akhir pekan', 'bagi yang', 'kota yang', 'menekan angka', 'sakit secara']\n"
     ]
    }
   ],
   "source": [
    "res0 = []   \n",
    "res1 = []\n",
    "res2 = []\n",
    "res3 = []\n",
    "\n",
    "for i in majemuk_terdeteksi0:\n",
    "    if i not in res0:\n",
    "        res0.append(i)\n",
    "        \n",
    "#Marjemuk terdeteksi dengan kesalahan 1 huruf\n",
    "for i in majemuk_terdeteksi1:\n",
    "    if i not in res1:\n",
    "        res1.append(i)\n",
    "        \n",
    "new1=[]\n",
    "for i in res1:\n",
    "    if i not in res0:\n",
    "        new1.append(i)\n",
    "\n",
    "#Marjemuk terdeteksi dengan kesalahan 2 huruf\n",
    "for i in majemuk_terdeteksi2:\n",
    "    if i not in res2:\n",
    "        res2.append(i)\n",
    "\n",
    "new2=[]\n",
    "for i in res2:\n",
    "    if i not in res0:\n",
    "        new2.append(i)\n",
    "new22=[]\n",
    "for i in new2:\n",
    "    if i not in new1:\n",
    "        new22.append(i)\n",
    "        \n",
    "        \n",
    "#Marjemuk terdeteksi dengan kesalahan 3 huruf  \n",
    "for i in majemuk_terdeteksi3:\n",
    "    if i not in res3:\n",
    "        res3.append(i)\n",
    "\n",
    "new3=[]\n",
    "for i in res3:\n",
    "    if i not in res0:\n",
    "        new3.append(i)\n",
    "new32=[]        \n",
    "for i in new3:\n",
    "    if i not in new1:\n",
    "        new32.append(i)\n",
    "new33=[]        \n",
    "for i in new32:\n",
    "    if i not in new22:\n",
    "        new33.append(i)\n",
    "        \n",
    "print(res0)\n",
    "print(\"======================\")\n",
    "print(new1)\n",
    "print(\"======================\")\n",
    "print(new22)\n",
    "print(\"======================\")\n",
    "print(new33)"
   ]
  },
  {
   "cell_type": "code",
   "execution_count": 15,
   "id": "fcca17fd",
   "metadata": {},
   "outputs": [],
   "source": [
    "#BIGRAMS FOR LIST KATA\n",
    "i=0\n",
    "k = []\n",
    "for word in list_katamajemuk:\n",
    "    f = list(special_ngrams(list_katamajemuk[i],2))\n",
    "    i = i+1\n",
    "    k.append(f)"
   ]
  },
  {
   "cell_type": "code",
   "execution_count": 17,
   "id": "0ec123e4",
   "metadata": {},
   "outputs": [
    {
     "name": "stdout",
     "output_type": "stream",
     "text": [
      "0\n",
      "1.0\n"
     ]
    }
   ],
   "source": [
    "word1 = \"anak bangsawan\"\n",
    "word2 = \"\"\n",
    "jac1 = special_ngrams(word1,2)\n",
    "jac2 = special_ngrams(word2,2)\n",
    "print(damerau_levenshtein(word1, word2))\n",
    "print(jaccardsimilarity(jac1, jac2))"
   ]
  },
  {
   "cell_type": "code",
   "execution_count": 22,
   "id": "3540ce96",
   "metadata": {},
   "outputs": [
    {
     "ename": "NameError",
     "evalue": "name 'generate_trigrams' is not defined",
     "output_type": "error",
     "traceback": [
      "\u001b[1;31m---------------------------------------------------------------------------\u001b[0m",
      "\u001b[1;31mNameError\u001b[0m                                 Traceback (most recent call last)",
      "\u001b[1;32m~\\AppData\\Local\\Temp\\ipykernel_9568\\2758395020.py\u001b[0m in \u001b[0;36m<module>\u001b[1;34m\u001b[0m\n\u001b[0;32m      1\u001b[0m \u001b[0mword1\u001b[0m \u001b[1;33m=\u001b[0m \u001b[1;34m\"menekan angka\"\u001b[0m\u001b[1;33m\u001b[0m\u001b[1;33m\u001b[0m\u001b[0m\n\u001b[0;32m      2\u001b[0m \u001b[0mword2\u001b[0m \u001b[1;33m=\u001b[0m \u001b[1;34m\"menang angka\"\u001b[0m\u001b[1;33m\u001b[0m\u001b[1;33m\u001b[0m\u001b[0m\n\u001b[1;32m----> 3\u001b[1;33m \u001b[0mjac1\u001b[0m \u001b[1;33m=\u001b[0m \u001b[0mgenerate_trigrams\u001b[0m\u001b[1;33m(\u001b[0m\u001b[0mword1\u001b[0m\u001b[1;33m)\u001b[0m\u001b[1;33m\u001b[0m\u001b[1;33m\u001b[0m\u001b[0m\n\u001b[0m\u001b[0;32m      4\u001b[0m \u001b[0mjac2\u001b[0m \u001b[1;33m=\u001b[0m \u001b[0mgenerate_trigrams\u001b[0m\u001b[1;33m(\u001b[0m\u001b[0mword2\u001b[0m\u001b[1;33m)\u001b[0m\u001b[1;33m\u001b[0m\u001b[1;33m\u001b[0m\u001b[0m\n\u001b[0;32m      5\u001b[0m \u001b[0mprint\u001b[0m\u001b[1;33m(\u001b[0m\u001b[0mdamerau_levenshtein\u001b[0m\u001b[1;33m(\u001b[0m\u001b[0mword1\u001b[0m\u001b[1;33m,\u001b[0m \u001b[0mword2\u001b[0m\u001b[1;33m)\u001b[0m\u001b[1;33m)\u001b[0m\u001b[1;33m\u001b[0m\u001b[1;33m\u001b[0m\u001b[0m\n",
      "\u001b[1;31mNameError\u001b[0m: name 'generate_trigrams' is not defined"
     ]
    }
   ],
   "source": [
    "word1 = \"kata dr\"\n",
    "word2 = \"menang angka\"\n",
    "jac1 = generate_trigrams(word1)\n",
    "jac2 = generate_trigrams(word2)\n",
    "print(damerau_levenshtein(word1, word2))\n",
    "print(jaccardsimilarity(jac1, jac2))"
   ]
  },
  {
   "cell_type": "code",
   "execution_count": 13,
   "id": "4b94a0b8",
   "metadata": {},
   "outputs": [
    {
     "data": {
      "text/plain": [
       "0.75"
      ]
     },
     "execution_count": 13,
     "metadata": {},
     "output_type": "execute_result"
    }
   ],
   "source": [
    "jaccardsimilarity(\"itu kata\",\"ibu kota\")"
   ]
  },
  {
   "cell_type": "code",
   "execution_count": 131,
   "id": "ef819810",
   "metadata": {},
   "outputs": [
    {
     "name": "stdout",
     "output_type": "stream",
     "text": [
      "Similarity Score: 75\n"
     ]
    }
   ],
   "source": [
    "from fuzzywuzzy import fuzz\n",
    "\n",
    "# Example words\n",
    "word1 = \"kata\"\n",
    "word2 = \"kota\"\n",
    "\n",
    "# Calculate the similarity score between the two words\n",
    "similarity_score = fuzz.ratio(word1, word2)\n",
    "\n",
    "# Print the similarity score\n",
    "print(f\"Similarity Score: {similarity_score}\")\n"
   ]
  },
  {
   "cell_type": "code",
   "execution_count": 141,
   "id": "03b7080f",
   "metadata": {},
   "outputs": [
    {
     "data": {
      "text/plain": [
       "2"
      ]
     },
     "execution_count": 141,
     "metadata": {},
     "output_type": "execute_result"
    }
   ],
   "source": [
    "p = [[1,2], [2,3], [3,4]]\n",
    "p[0][1]"
   ]
  },
  {
   "cell_type": "code",
   "execution_count": 38,
   "id": "127f544b",
   "metadata": {},
   "outputs": [
    {
     "name": "stdout",
     "output_type": "stream",
     "text": [
      "['papa-popo', 'kaka']\n"
     ]
    }
   ],
   "source": [
    "tokenized = [[]]\n",
    "i=0\n",
    "for a in list_kata:\n",
    "    tokenized = a.split()\n",
    "    i = i + 1\n",
    "print(tokenized)    "
   ]
  },
  {
   "cell_type": "code",
   "execution_count": 95,
   "id": "2a08c29e",
   "metadata": {},
   "outputs": [],
   "source": [
    "def jaccard(list1, list2):\n",
    "    intersection = len(list(set(list1).intersection(list2)))\n",
    "    union = (len(list1) + len(list2)) - intersection\n",
    "    return float(intersection) / union"
   ]
  },
  {
   "cell_type": "code",
   "execution_count": 13,
   "id": "32bc1754",
   "metadata": {},
   "outputs": [],
   "source": [
    "def special_ngrams(word, n):\n",
    "    \"\"\" Yield character ngrams of word that overlap by only one character, \n",
    "        except for the last two ngrams which may overlap by more than one \n",
    "        character. The first and last ngrams of the word are always included. \"\"\"\n",
    "    for start in range(0, len(word) - n, n - 1):\n",
    "        yield word[start:start + n]\n",
    "    yield word[-n:]"
   ]
  },
  {
   "cell_type": "code",
   "execution_count": 16,
   "id": "d21c39a6",
   "metadata": {},
   "outputs": [],
   "source": [
    "i=0\n",
    "e=[]\n",
    "ngram_teks = []\n",
    "ngram_majemuk = []\n",
    "for d in res:\n",
    "    c = list(special_ngrams(res[i],2))\n",
    "    i = i+1\n",
    "    e.append(c)\n",
    "    \n",
    "# Remove duplicates from each sub-array\n",
    "result = [list(set(sub_array)) for sub_array in e]\n",
    "result2 = [list(set(sub_array2)) for sub_array2 in k]\n",
    "\n",
    "# Print the result\n",
    "for sub_array in result:\n",
    "    ngram_teks.append(sub_array)\n",
    "\n",
    "# Print the result\n",
    "for sub_array2 in result2:\n",
    "    ngram_majemuk.append(sub_array2)"
   ]
  },
  {
   "cell_type": "code",
   "execution_count": 83,
   "id": "f386aa59",
   "metadata": {},
   "outputs": [
    {
     "name": "stdout",
     "output_type": "stream",
     "text": [
      "['Ana', 'nak', 'ak ', 'k B', ' Ba', 'Bat', 'atu']\n",
      "['Bia', 'ian', 'ang', 'ng ', 'g K', ' Ke', 'Kel', 'ela', 'lad', 'adi']\n"
     ]
    },
    {
     "data": {
      "text/plain": [
       "0.0"
      ]
     },
     "execution_count": 83,
     "metadata": {},
     "output_type": "execute_result"
    }
   ],
   "source": [
    "print(trigrams_list[9])\n",
    "print(g[8])\n",
    "jaccard(trigrams_list[9], g[8])"
   ]
  },
  {
   "cell_type": "code",
   "execution_count": 21,
   "id": "a3a1b132",
   "metadata": {},
   "outputs": [
    {
     "name": "stdout",
     "output_type": "stream",
     "text": [
      "juru bicara 0.46153846153846156 ['bi', 'ra', 'ur', 'ru', 'ju', 'u ', 'ar', 'ic', ' b', 'ca'] ['bi', 'ra', 'm ', 'ja', 'am', 'ar', 'ic', ' b', 'ca'] jam bicara\n",
      "juru bicara 0.46153846153846156 ['bi', 'ra', 'ur', 'ru', 'ju', 'u ', 'ar', 'ic', ' b', 'ca'] ['ay', 'ur', 'ru', 'ya', 'ju', 'u ', 'ba', 'ar', ' b'] juru bayar\n",
      "juru bicara 1.0 ['bi', 'ra', 'ur', 'ru', 'ju', 'u ', 'ar', 'ic', ' b', 'ca'] ['bi', 'ra', 'ur', 'ru', 'ju', 'u ', 'ar', 'ic', ' b', 'ca'] juru bicara\n",
      "juru bicara 0.5 ['bi', 'ra', 'ur', 'ru', 'ju', 'u ', 'ar', 'ic', ' b', 'ca'] ['ur', 'ru', 'ju', ' c', 'u ', 'ac', 'ar', 'ca'] juru cacar\n",
      "juru bicara 0.4166666666666667 ['bi', 'ra', 'ur', 'ru', 'ju', 'u ', 'ar', 'ic', ' b', 'ca'] ['bi', 'ir', 'ru', 'u ', 'ar', 'ha', ' b'] haru biru\n",
      "tahun baru 0.4166666666666667 ['ah', 'un', 'ru', ' b', 'ba', 'ar', 'ta', 'n ', 'hu'] ['ah', ' b', 'u ', 'as', 'ba', 'ta', 'at', 'hu'] tahu batas\n",
      "itu kata 0.5 [' k', 'u ', 'ta', 'ka', 'tu', 'at', 'it'] [' k', 'u ', 'ku', 'uk', 'su', 'ta', 'ka', 'at'] suku kata\n",
      "itu kata 0.5 [' k', 'u ', 'ta', 'ka', 'tu', 'at', 'it'] [' k', 'ka', 'a ', 'ta', 'at'] tata kata\n",
      "kata dr 0.5714285714285714 ['dr', 'a ', ' d', 'ta', 'ka', 'at'] [' k', 'ka', 'a ', 'ta', 'at'] tata kata\n",
      "kata dr 0.5555555555555556 ['dr', 'a ', ' d', 'ta', 'ka', 'at'] ['de', 'ma', 'ka', 'a ', ' d', 'ta', 'at', 'ek'] mata dekat\n",
      "menekan angka 0.5833333333333334 ['gk', 'an', 'me', 'en', 'ne', 'ng', 'n ', 'ka', ' a', 'ek'] ['gk', 'an', 'na', 'me', 'en', 'ng', 'g ', 'ka', ' a'] menang angka\n",
      "rumah sakit 0.46153846153846156 ['ah', 'um', 'ru', 'sa', 'ma', 'h ', 'ak', 'ki', 'it', ' s'] ['ah', 'um', 'ru', 'an', 'ma', 'h ', 'ak', ' m', 'ka'] rumah makan\n",
      "rumah sakit 1.0 ['ah', 'um', 'ru', 'sa', 'ma', 'h ', 'ak', 'ki', 'it', ' s'] ['ah', 'um', 'ru', 'sa', 'ma', 'h ', 'ak', 'ki', 'it', ' s'] rumah sakit\n",
      "rumah sakit 0.42857142857142855 ['ah', 'um', 'ru', 'sa', 'ma', 'h ', 'ak', 'ki', 'it', ' s'] ['sa', 'uh', 'ja', 'h ', 'ak', 'ki', 'at', 'tu', 'it', ' s'] jatuh sakit\n",
      "['juru bicara', 'tahun baru', 'itu kata', 'kata dr', 'menekan angka', 'rumah sakit']\n"
     ]
    }
   ],
   "source": [
    "i=0\n",
    "j=0\n",
    "list_jac=[]\n",
    "katabenar=[]\n",
    "new_list=[]\n",
    "for p in res :\n",
    "    for t in list_katamajemuk:\n",
    "        a = jaccardsimilarity(ngram_teks[i],ngram_majemuk[j])\n",
    "        list_jac.append(a)\n",
    "        if (a >= 0.41):\n",
    "            print(res[i], a, ngram_teks[i], ngram_majemuk[j], list_katamajemuk[j])\n",
    "            katabenar.append(res[i])\n",
    "            for benar in katabenar:\n",
    "                if benar not in new_list:\n",
    "                    new_list.append(benar)\n",
    "        j=j+1\n",
    "    i=i+1\n",
    "    j=0\n",
    "print(new_list)"
   ]
  },
  {
   "cell_type": "code",
   "execution_count": 18,
   "id": "741c74de",
   "metadata": {},
   "outputs": [
    {
     "data": {
      "text/plain": [
       "0.5714285714285714"
      ]
     },
     "execution_count": 18,
     "metadata": {},
     "output_type": "execute_result"
    }
   ],
   "source": [
    "jaccard(\"juru bicara\", \"juru bicara\")"
   ]
  },
  {
   "cell_type": "code",
   "execution_count": 89,
   "id": "5592f09d",
   "metadata": {},
   "outputs": [
    {
     "name": "stdout",
     "output_type": "stream",
     "text": [
      "['An', 'na', 'ak', 'k ', ' A', 'Ai', 'ir'] Anak Air\n",
      "['An', 'na', 'ak', 'k ', ' A', 'Ap', 'pi'] Anak Api\n",
      "0.625\n"
     ]
    }
   ],
   "source": [
    "i=0\n",
    "list_jac=[]\n",
    "katabenar=[]\n",
    "for p in list_katamajemuk :\n",
    "    a = jaccard(e[0],g[i])\n",
    "    list_jac.append(a)\n",
    "    r = max(list_jac)\n",
    "    if(jaccard(e[0],g[i])==r):\n",
    "        print(g[i], list_katamajemuk[i])\n",
    "    i=i+1\n",
    "print(r)"
   ]
  }
 ],
 "metadata": {
  "kernelspec": {
   "display_name": "Python 3 (ipykernel)",
   "language": "python",
   "name": "python3"
  },
  "language_info": {
   "codemirror_mode": {
    "name": "ipython",
    "version": 3
   },
   "file_extension": ".py",
   "mimetype": "text/x-python",
   "name": "python",
   "nbconvert_exporter": "python",
   "pygments_lexer": "ipython3",
   "version": "3.9.13"
  }
 },
 "nbformat": 4,
 "nbformat_minor": 5
}
